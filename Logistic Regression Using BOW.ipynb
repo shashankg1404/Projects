{
 "cells": [
  {
   "cell_type": "code",
   "execution_count": 1,
   "metadata": {},
   "outputs": [],
   "source": [
    "import pandas as pd"
   ]
  },
  {
   "cell_type": "code",
   "execution_count": 2,
   "metadata": {},
   "outputs": [],
   "source": [
    "#importing dataset using pandas \n",
    "df = pd.read_csv('Reviews.csv')"
   ]
  },
  {
   "cell_type": "code",
   "execution_count": 3,
   "metadata": {},
   "outputs": [
    {
     "data": {
      "text/html": [
       "<div>\n",
       "<style scoped>\n",
       "    .dataframe tbody tr th:only-of-type {\n",
       "        vertical-align: middle;\n",
       "    }\n",
       "\n",
       "    .dataframe tbody tr th {\n",
       "        vertical-align: top;\n",
       "    }\n",
       "\n",
       "    .dataframe thead th {\n",
       "        text-align: right;\n",
       "    }\n",
       "</style>\n",
       "<table border=\"1\" class=\"dataframe\">\n",
       "  <thead>\n",
       "    <tr style=\"text-align: right;\">\n",
       "      <th></th>\n",
       "      <th>Id</th>\n",
       "      <th>ProductId</th>\n",
       "      <th>UserId</th>\n",
       "      <th>ProfileName</th>\n",
       "      <th>HelpfulnessNumerator</th>\n",
       "      <th>HelpfulnessDenominator</th>\n",
       "      <th>Score</th>\n",
       "      <th>Time</th>\n",
       "      <th>Summary</th>\n",
       "      <th>Text</th>\n",
       "    </tr>\n",
       "  </thead>\n",
       "  <tbody>\n",
       "    <tr>\n",
       "      <th>0</th>\n",
       "      <td>1</td>\n",
       "      <td>B001E4KFG0</td>\n",
       "      <td>A3SGXH7AUHU8GW</td>\n",
       "      <td>delmartian</td>\n",
       "      <td>1</td>\n",
       "      <td>1</td>\n",
       "      <td>5</td>\n",
       "      <td>1303862400</td>\n",
       "      <td>Good Quality Dog Food</td>\n",
       "      <td>I have bought several of the Vitality canned d...</td>\n",
       "    </tr>\n",
       "    <tr>\n",
       "      <th>1</th>\n",
       "      <td>2</td>\n",
       "      <td>B00813GRG4</td>\n",
       "      <td>A1D87F6ZCVE5NK</td>\n",
       "      <td>dll pa</td>\n",
       "      <td>0</td>\n",
       "      <td>0</td>\n",
       "      <td>1</td>\n",
       "      <td>1346976000</td>\n",
       "      <td>Not as Advertised</td>\n",
       "      <td>Product arrived labeled as Jumbo Salted Peanut...</td>\n",
       "    </tr>\n",
       "    <tr>\n",
       "      <th>2</th>\n",
       "      <td>3</td>\n",
       "      <td>B000LQOCH0</td>\n",
       "      <td>ABXLMWJIXXAIN</td>\n",
       "      <td>Natalia Corres \"Natalia Corres\"</td>\n",
       "      <td>1</td>\n",
       "      <td>1</td>\n",
       "      <td>4</td>\n",
       "      <td>1219017600</td>\n",
       "      <td>\"Delight\" says it all</td>\n",
       "      <td>This is a confection that has been around a fe...</td>\n",
       "    </tr>\n",
       "    <tr>\n",
       "      <th>3</th>\n",
       "      <td>4</td>\n",
       "      <td>B000UA0QIQ</td>\n",
       "      <td>A395BORC6FGVXV</td>\n",
       "      <td>Karl</td>\n",
       "      <td>3</td>\n",
       "      <td>3</td>\n",
       "      <td>2</td>\n",
       "      <td>1307923200</td>\n",
       "      <td>Cough Medicine</td>\n",
       "      <td>If you are looking for the secret ingredient i...</td>\n",
       "    </tr>\n",
       "    <tr>\n",
       "      <th>4</th>\n",
       "      <td>5</td>\n",
       "      <td>B006K2ZZ7K</td>\n",
       "      <td>A1UQRSCLF8GW1T</td>\n",
       "      <td>Michael D. Bigham \"M. Wassir\"</td>\n",
       "      <td>0</td>\n",
       "      <td>0</td>\n",
       "      <td>5</td>\n",
       "      <td>1350777600</td>\n",
       "      <td>Great taffy</td>\n",
       "      <td>Great taffy at a great price.  There was a wid...</td>\n",
       "    </tr>\n",
       "  </tbody>\n",
       "</table>\n",
       "</div>"
      ],
      "text/plain": [
       "   Id   ProductId          UserId                      ProfileName  \\\n",
       "0   1  B001E4KFG0  A3SGXH7AUHU8GW                       delmartian   \n",
       "1   2  B00813GRG4  A1D87F6ZCVE5NK                           dll pa   \n",
       "2   3  B000LQOCH0   ABXLMWJIXXAIN  Natalia Corres \"Natalia Corres\"   \n",
       "3   4  B000UA0QIQ  A395BORC6FGVXV                             Karl   \n",
       "4   5  B006K2ZZ7K  A1UQRSCLF8GW1T    Michael D. Bigham \"M. Wassir\"   \n",
       "\n",
       "   HelpfulnessNumerator  HelpfulnessDenominator  Score        Time  \\\n",
       "0                     1                       1      5  1303862400   \n",
       "1                     0                       0      1  1346976000   \n",
       "2                     1                       1      4  1219017600   \n",
       "3                     3                       3      2  1307923200   \n",
       "4                     0                       0      5  1350777600   \n",
       "\n",
       "                 Summary                                               Text  \n",
       "0  Good Quality Dog Food  I have bought several of the Vitality canned d...  \n",
       "1      Not as Advertised  Product arrived labeled as Jumbo Salted Peanut...  \n",
       "2  \"Delight\" says it all  This is a confection that has been around a fe...  \n",
       "3         Cough Medicine  If you are looking for the secret ingredient i...  \n",
       "4            Great taffy  Great taffy at a great price.  There was a wid...  "
      ]
     },
     "execution_count": 3,
     "metadata": {},
     "output_type": "execute_result"
    }
   ],
   "source": [
    "#descriptive statistics of dataset\n",
    "df.head()"
   ]
  },
  {
   "cell_type": "code",
   "execution_count": 4,
   "metadata": {},
   "outputs": [
    {
     "name": "stdout",
     "output_type": "stream",
     "text": [
      "No. of Datapoints : 568454\n",
      "No. of Features : 10\n"
     ]
    }
   ],
   "source": [
    "#number of datapoints\n",
    "df_shape = df.shape\n",
    "print(f\"No. of Datapoints : {df_shape[0]}\")\n",
    "print(f\"No. of Features : {df_shape[1]}\")"
   ]
  },
  {
   "cell_type": "code",
   "execution_count": 5,
   "metadata": {},
   "outputs": [
    {
     "data": {
      "text/html": [
       "<div>\n",
       "<style scoped>\n",
       "    .dataframe tbody tr th:only-of-type {\n",
       "        vertical-align: middle;\n",
       "    }\n",
       "\n",
       "    .dataframe tbody tr th {\n",
       "        vertical-align: top;\n",
       "    }\n",
       "\n",
       "    .dataframe thead th {\n",
       "        text-align: right;\n",
       "    }\n",
       "</style>\n",
       "<table border=\"1\" class=\"dataframe\">\n",
       "  <thead>\n",
       "    <tr style=\"text-align: right;\">\n",
       "      <th></th>\n",
       "      <th>Id</th>\n",
       "      <th>ProductId</th>\n",
       "      <th>UserId</th>\n",
       "      <th>ProfileName</th>\n",
       "      <th>HelpfulnessNumerator</th>\n",
       "      <th>HelpfulnessDenominator</th>\n",
       "      <th>Score</th>\n",
       "      <th>Time</th>\n",
       "      <th>Summary</th>\n",
       "      <th>Text</th>\n",
       "    </tr>\n",
       "  </thead>\n",
       "  <tbody>\n",
       "    <tr>\n",
       "      <th>45</th>\n",
       "      <td>46</td>\n",
       "      <td>B001EO5QW8</td>\n",
       "      <td>A39Z97950MCTQE</td>\n",
       "      <td>K. A. Freel</td>\n",
       "      <td>0</td>\n",
       "      <td>0</td>\n",
       "      <td>3</td>\n",
       "      <td>1205193600</td>\n",
       "      <td>Hearty Oatmeal</td>\n",
       "      <td>This seems a little more wholesome than some o...</td>\n",
       "    </tr>\n",
       "    <tr>\n",
       "      <th>47</th>\n",
       "      <td>48</td>\n",
       "      <td>B001EO5QW8</td>\n",
       "      <td>A26AY1TFK8BQXQ</td>\n",
       "      <td>kbogo \"shoelover\"</td>\n",
       "      <td>1</td>\n",
       "      <td>2</td>\n",
       "      <td>3</td>\n",
       "      <td>1200096000</td>\n",
       "      <td>Mushy</td>\n",
       "      <td>The flavors are good.  However, I do not see a...</td>\n",
       "    </tr>\n",
       "    <tr>\n",
       "      <th>49</th>\n",
       "      <td>50</td>\n",
       "      <td>B001EO5QW8</td>\n",
       "      <td>A276999Y6VRSCQ</td>\n",
       "      <td>JMay</td>\n",
       "      <td>0</td>\n",
       "      <td>1</td>\n",
       "      <td>3</td>\n",
       "      <td>1334016000</td>\n",
       "      <td>Same stuff</td>\n",
       "      <td>This is the same stuff you can buy at the big ...</td>\n",
       "    </tr>\n",
       "    <tr>\n",
       "      <th>53</th>\n",
       "      <td>54</td>\n",
       "      <td>B000G6RPMY</td>\n",
       "      <td>AQ9DWWYP2KJCQ</td>\n",
       "      <td>Roel Trevino \"protomex\"</td>\n",
       "      <td>0</td>\n",
       "      <td>0</td>\n",
       "      <td>3</td>\n",
       "      <td>1278028800</td>\n",
       "      <td>not ass kickin</td>\n",
       "      <td>we're used to spicy foods down here in south t...</td>\n",
       "    </tr>\n",
       "    <tr>\n",
       "      <th>60</th>\n",
       "      <td>61</td>\n",
       "      <td>B004N5KULM</td>\n",
       "      <td>A1ZR8O62VSU4OK</td>\n",
       "      <td>Lisa J. Szlosek \"lisa\"</td>\n",
       "      <td>2</td>\n",
       "      <td>4</td>\n",
       "      <td>3</td>\n",
       "      <td>1318723200</td>\n",
       "      <td>Better price for this at Target</td>\n",
       "      <td>Watch your prices with this.  While the assort...</td>\n",
       "    </tr>\n",
       "    <tr>\n",
       "      <th>...</th>\n",
       "      <td>...</td>\n",
       "      <td>...</td>\n",
       "      <td>...</td>\n",
       "      <td>...</td>\n",
       "      <td>...</td>\n",
       "      <td>...</td>\n",
       "      <td>...</td>\n",
       "      <td>...</td>\n",
       "      <td>...</td>\n",
       "      <td>...</td>\n",
       "    </tr>\n",
       "    <tr>\n",
       "      <th>568369</th>\n",
       "      <td>568370</td>\n",
       "      <td>B000LKVRQA</td>\n",
       "      <td>A2ZX818P92CM7F</td>\n",
       "      <td>Gregg Somers \"chillerdad\"</td>\n",
       "      <td>1</td>\n",
       "      <td>2</td>\n",
       "      <td>3</td>\n",
       "      <td>1282694400</td>\n",
       "      <td>This is Earl Grey!???</td>\n",
       "      <td>An admitted fan of Stash Earl Grey, neverthele...</td>\n",
       "    </tr>\n",
       "    <tr>\n",
       "      <th>568379</th>\n",
       "      <td>568380</td>\n",
       "      <td>B000H28ABW</td>\n",
       "      <td>A1XVKAMXSOW8ZV</td>\n",
       "      <td>C. E. Hunsicker \"Hatshepsut\"</td>\n",
       "      <td>2</td>\n",
       "      <td>3</td>\n",
       "      <td>3</td>\n",
       "      <td>1256515200</td>\n",
       "      <td>Just OK</td>\n",
       "      <td>I hadn't tried this taco seasoning prior to pu...</td>\n",
       "    </tr>\n",
       "    <tr>\n",
       "      <th>568394</th>\n",
       "      <td>568395</td>\n",
       "      <td>B001EQ5O6Y</td>\n",
       "      <td>A309CWGUW09NYB</td>\n",
       "      <td>Lirion73</td>\n",
       "      <td>0</td>\n",
       "      <td>0</td>\n",
       "      <td>3</td>\n",
       "      <td>1315785600</td>\n",
       "      <td>Smell delightful, taste not so much</td>\n",
       "      <td>I picked up these honey sticks because I'm in ...</td>\n",
       "    </tr>\n",
       "    <tr>\n",
       "      <th>568401</th>\n",
       "      <td>568402</td>\n",
       "      <td>B001EQ5O6Y</td>\n",
       "      <td>A28ZV2FB9OAFVJ</td>\n",
       "      <td>Lori</td>\n",
       "      <td>0</td>\n",
       "      <td>0</td>\n",
       "      <td>3</td>\n",
       "      <td>1192838400</td>\n",
       "      <td>Agave Nectar</td>\n",
       "      <td>It's great to have agave in a portable format....</td>\n",
       "    </tr>\n",
       "    <tr>\n",
       "      <th>568422</th>\n",
       "      <td>568423</td>\n",
       "      <td>B004BY23I8</td>\n",
       "      <td>A2PJIM996TTQH2</td>\n",
       "      <td>Sets in the City</td>\n",
       "      <td>0</td>\n",
       "      <td>0</td>\n",
       "      <td>3</td>\n",
       "      <td>1327190400</td>\n",
       "      <td>Pacific Chai-Coconut</td>\n",
       "      <td>This version of Pacific Chai is pretty mild.  ...</td>\n",
       "    </tr>\n",
       "  </tbody>\n",
       "</table>\n",
       "<p>42640 rows × 10 columns</p>\n",
       "</div>"
      ],
      "text/plain": [
       "            Id   ProductId          UserId                   ProfileName  \\\n",
       "45          46  B001EO5QW8  A39Z97950MCTQE                   K. A. Freel   \n",
       "47          48  B001EO5QW8  A26AY1TFK8BQXQ             kbogo \"shoelover\"   \n",
       "49          50  B001EO5QW8  A276999Y6VRSCQ                          JMay   \n",
       "53          54  B000G6RPMY   AQ9DWWYP2KJCQ       Roel Trevino \"protomex\"   \n",
       "60          61  B004N5KULM  A1ZR8O62VSU4OK        Lisa J. Szlosek \"lisa\"   \n",
       "...        ...         ...             ...                           ...   \n",
       "568369  568370  B000LKVRQA  A2ZX818P92CM7F     Gregg Somers \"chillerdad\"   \n",
       "568379  568380  B000H28ABW  A1XVKAMXSOW8ZV  C. E. Hunsicker \"Hatshepsut\"   \n",
       "568394  568395  B001EQ5O6Y  A309CWGUW09NYB                      Lirion73   \n",
       "568401  568402  B001EQ5O6Y  A28ZV2FB9OAFVJ                          Lori   \n",
       "568422  568423  B004BY23I8  A2PJIM996TTQH2              Sets in the City   \n",
       "\n",
       "        HelpfulnessNumerator  HelpfulnessDenominator  Score        Time  \\\n",
       "45                         0                       0      3  1205193600   \n",
       "47                         1                       2      3  1200096000   \n",
       "49                         0                       1      3  1334016000   \n",
       "53                         0                       0      3  1278028800   \n",
       "60                         2                       4      3  1318723200   \n",
       "...                      ...                     ...    ...         ...   \n",
       "568369                     1                       2      3  1282694400   \n",
       "568379                     2                       3      3  1256515200   \n",
       "568394                     0                       0      3  1315785600   \n",
       "568401                     0                       0      3  1192838400   \n",
       "568422                     0                       0      3  1327190400   \n",
       "\n",
       "                                    Summary  \\\n",
       "45                           Hearty Oatmeal   \n",
       "47                                    Mushy   \n",
       "49                               Same stuff   \n",
       "53                           not ass kickin   \n",
       "60          Better price for this at Target   \n",
       "...                                     ...   \n",
       "568369                This is Earl Grey!???   \n",
       "568379                              Just OK   \n",
       "568394  Smell delightful, taste not so much   \n",
       "568401                         Agave Nectar   \n",
       "568422                 Pacific Chai-Coconut   \n",
       "\n",
       "                                                     Text  \n",
       "45      This seems a little more wholesome than some o...  \n",
       "47      The flavors are good.  However, I do not see a...  \n",
       "49      This is the same stuff you can buy at the big ...  \n",
       "53      we're used to spicy foods down here in south t...  \n",
       "60      Watch your prices with this.  While the assort...  \n",
       "...                                                   ...  \n",
       "568369  An admitted fan of Stash Earl Grey, neverthele...  \n",
       "568379  I hadn't tried this taco seasoning prior to pu...  \n",
       "568394  I picked up these honey sticks because I'm in ...  \n",
       "568401  It's great to have agave in a portable format....  \n",
       "568422  This version of Pacific Chai is pretty mild.  ...  \n",
       "\n",
       "[42640 rows x 10 columns]"
      ]
     },
     "execution_count": 5,
     "metadata": {},
     "output_type": "execute_result"
    }
   ],
   "source": [
    "#displaying all 3-star reviews \n",
    "df[df['Score']==3]"
   ]
  },
  {
   "cell_type": "code",
   "execution_count": 6,
   "metadata": {},
   "outputs": [
    {
     "name": "stdout",
     "output_type": "stream",
     "text": [
      "<class 'pandas.core.frame.DataFrame'>\n",
      "RangeIndex: 568454 entries, 0 to 568453\n",
      "Data columns (total 10 columns):\n",
      " #   Column                  Non-Null Count   Dtype \n",
      "---  ------                  --------------   ----- \n",
      " 0   Id                      568454 non-null  int64 \n",
      " 1   ProductId               568454 non-null  object\n",
      " 2   UserId                  568454 non-null  object\n",
      " 3   ProfileName             568438 non-null  object\n",
      " 4   HelpfulnessNumerator    568454 non-null  int64 \n",
      " 5   HelpfulnessDenominator  568454 non-null  int64 \n",
      " 6   Score                   568454 non-null  int64 \n",
      " 7   Time                    568454 non-null  int64 \n",
      " 8   Summary                 568427 non-null  object\n",
      " 9   Text                    568454 non-null  object\n",
      "dtypes: int64(5), object(5)\n",
      "memory usage: 43.4+ MB\n"
     ]
    }
   ],
   "source": [
    "#types of features \n",
    "df.info()"
   ]
  },
  {
   "cell_type": "code",
   "execution_count": 7,
   "metadata": {},
   "outputs": [
    {
     "data": {
      "text/html": [
       "<div>\n",
       "<style scoped>\n",
       "    .dataframe tbody tr th:only-of-type {\n",
       "        vertical-align: middle;\n",
       "    }\n",
       "\n",
       "    .dataframe tbody tr th {\n",
       "        vertical-align: top;\n",
       "    }\n",
       "\n",
       "    .dataframe thead th {\n",
       "        text-align: right;\n",
       "    }\n",
       "</style>\n",
       "<table border=\"1\" class=\"dataframe\">\n",
       "  <thead>\n",
       "    <tr style=\"text-align: right;\">\n",
       "      <th></th>\n",
       "      <th>Id</th>\n",
       "      <th>HelpfulnessNumerator</th>\n",
       "      <th>HelpfulnessDenominator</th>\n",
       "      <th>Score</th>\n",
       "      <th>Time</th>\n",
       "    </tr>\n",
       "  </thead>\n",
       "  <tbody>\n",
       "    <tr>\n",
       "      <th>count</th>\n",
       "      <td>568454.000000</td>\n",
       "      <td>568454.000000</td>\n",
       "      <td>568454.00000</td>\n",
       "      <td>568454.000000</td>\n",
       "      <td>5.684540e+05</td>\n",
       "    </tr>\n",
       "    <tr>\n",
       "      <th>mean</th>\n",
       "      <td>284227.500000</td>\n",
       "      <td>1.743817</td>\n",
       "      <td>2.22881</td>\n",
       "      <td>4.183199</td>\n",
       "      <td>1.296257e+09</td>\n",
       "    </tr>\n",
       "    <tr>\n",
       "      <th>std</th>\n",
       "      <td>164098.679298</td>\n",
       "      <td>7.636513</td>\n",
       "      <td>8.28974</td>\n",
       "      <td>1.310436</td>\n",
       "      <td>4.804331e+07</td>\n",
       "    </tr>\n",
       "    <tr>\n",
       "      <th>min</th>\n",
       "      <td>1.000000</td>\n",
       "      <td>0.000000</td>\n",
       "      <td>0.00000</td>\n",
       "      <td>1.000000</td>\n",
       "      <td>9.393408e+08</td>\n",
       "    </tr>\n",
       "    <tr>\n",
       "      <th>25%</th>\n",
       "      <td>142114.250000</td>\n",
       "      <td>0.000000</td>\n",
       "      <td>0.00000</td>\n",
       "      <td>4.000000</td>\n",
       "      <td>1.271290e+09</td>\n",
       "    </tr>\n",
       "    <tr>\n",
       "      <th>50%</th>\n",
       "      <td>284227.500000</td>\n",
       "      <td>0.000000</td>\n",
       "      <td>1.00000</td>\n",
       "      <td>5.000000</td>\n",
       "      <td>1.311120e+09</td>\n",
       "    </tr>\n",
       "    <tr>\n",
       "      <th>75%</th>\n",
       "      <td>426340.750000</td>\n",
       "      <td>2.000000</td>\n",
       "      <td>2.00000</td>\n",
       "      <td>5.000000</td>\n",
       "      <td>1.332720e+09</td>\n",
       "    </tr>\n",
       "    <tr>\n",
       "      <th>max</th>\n",
       "      <td>568454.000000</td>\n",
       "      <td>866.000000</td>\n",
       "      <td>923.00000</td>\n",
       "      <td>5.000000</td>\n",
       "      <td>1.351210e+09</td>\n",
       "    </tr>\n",
       "  </tbody>\n",
       "</table>\n",
       "</div>"
      ],
      "text/plain": [
       "                  Id  HelpfulnessNumerator  HelpfulnessDenominator  \\\n",
       "count  568454.000000         568454.000000            568454.00000   \n",
       "mean   284227.500000              1.743817                 2.22881   \n",
       "std    164098.679298              7.636513                 8.28974   \n",
       "min         1.000000              0.000000                 0.00000   \n",
       "25%    142114.250000              0.000000                 0.00000   \n",
       "50%    284227.500000              0.000000                 1.00000   \n",
       "75%    426340.750000              2.000000                 2.00000   \n",
       "max    568454.000000            866.000000               923.00000   \n",
       "\n",
       "               Score          Time  \n",
       "count  568454.000000  5.684540e+05  \n",
       "mean        4.183199  1.296257e+09  \n",
       "std         1.310436  4.804331e+07  \n",
       "min         1.000000  9.393408e+08  \n",
       "25%         4.000000  1.271290e+09  \n",
       "50%         5.000000  1.311120e+09  \n",
       "75%         5.000000  1.332720e+09  \n",
       "max         5.000000  1.351210e+09  "
      ]
     },
     "execution_count": 7,
     "metadata": {},
     "output_type": "execute_result"
    }
   ],
   "source": [
    "#describing our dataframe \n",
    "df.describe()"
   ]
  },
  {
   "cell_type": "code",
   "execution_count": 8,
   "metadata": {},
   "outputs": [
    {
     "data": {
      "text/plain": [
       "5    363122\n",
       "4     80655\n",
       "1     52268\n",
       "3     42640\n",
       "2     29769\n",
       "Name: Score, dtype: int64"
      ]
     },
     "execution_count": 8,
     "metadata": {},
     "output_type": "execute_result"
    }
   ],
   "source": [
    "#displaying the distribution of reviews based on score(ratings)\n",
    "df['Score'].value_counts()"
   ]
  },
  {
   "cell_type": "code",
   "execution_count": 9,
   "metadata": {},
   "outputs": [
    {
     "data": {
      "text/plain": [
       "74258"
      ]
     },
     "execution_count": 9,
     "metadata": {},
     "output_type": "execute_result"
    }
   ],
   "source": [
    "#Counting number of distinct ProductID\n",
    "df['ProductId'].nunique()"
   ]
  },
  {
   "cell_type": "code",
   "execution_count": 10,
   "metadata": {},
   "outputs": [
    {
     "data": {
      "text/plain": [
       "256059"
      ]
     },
     "execution_count": 10,
     "metadata": {},
     "output_type": "execute_result"
    }
   ],
   "source": [
    "#Counting number of distinct UserID\n",
    "df['UserId'].nunique()"
   ]
  },
  {
   "cell_type": "code",
   "execution_count": 11,
   "metadata": {},
   "outputs": [
    {
     "data": {
      "text/plain": [
       "Id                         0\n",
       "ProductId                  0\n",
       "UserId                     0\n",
       "ProfileName               16\n",
       "HelpfulnessNumerator       0\n",
       "HelpfulnessDenominator     0\n",
       "Score                      0\n",
       "Time                       0\n",
       "Summary                   27\n",
       "Text                       0\n",
       "dtype: int64"
      ]
     },
     "execution_count": 11,
     "metadata": {},
     "output_type": "execute_result"
    }
   ],
   "source": [
    "#finding null values in each column \n",
    "df.isnull().sum()"
   ]
  },
  {
   "cell_type": "code",
   "execution_count": 12,
   "metadata": {},
   "outputs": [],
   "source": [
    "#The Profile Name has 16 null values , but we have userID which will help us to retain the information of the user\n",
    "#thus, we are not losing out on information.\n",
    "#So, we can keep those records."
   ]
  },
  {
   "cell_type": "code",
   "execution_count": 13,
   "metadata": {},
   "outputs": [
    {
     "data": {
      "text/html": [
       "<div>\n",
       "<style scoped>\n",
       "    .dataframe tbody tr th:only-of-type {\n",
       "        vertical-align: middle;\n",
       "    }\n",
       "\n",
       "    .dataframe tbody tr th {\n",
       "        vertical-align: top;\n",
       "    }\n",
       "\n",
       "    .dataframe thead th {\n",
       "        text-align: right;\n",
       "    }\n",
       "</style>\n",
       "<table border=\"1\" class=\"dataframe\">\n",
       "  <thead>\n",
       "    <tr style=\"text-align: right;\">\n",
       "      <th></th>\n",
       "      <th>Id</th>\n",
       "      <th>ProductId</th>\n",
       "      <th>UserId</th>\n",
       "      <th>ProfileName</th>\n",
       "      <th>HelpfulnessNumerator</th>\n",
       "      <th>HelpfulnessDenominator</th>\n",
       "      <th>Score</th>\n",
       "      <th>Time</th>\n",
       "      <th>Summary</th>\n",
       "      <th>Text</th>\n",
       "    </tr>\n",
       "  </thead>\n",
       "  <tbody>\n",
       "    <tr>\n",
       "      <th>33958</th>\n",
       "      <td>33959</td>\n",
       "      <td>B00412W76S</td>\n",
       "      <td>A3TJPSWY2HE4BS</td>\n",
       "      <td>S. Layton \"homeschool blogger\"</td>\n",
       "      <td>1</td>\n",
       "      <td>24</td>\n",
       "      <td>2</td>\n",
       "      <td>1173312000</td>\n",
       "      <td>NaN</td>\n",
       "      <td>I only used two maybe three tea bags and got p...</td>\n",
       "    </tr>\n",
       "    <tr>\n",
       "      <th>40548</th>\n",
       "      <td>40549</td>\n",
       "      <td>B00020HHRW</td>\n",
       "      <td>A3TJPSWY2HE4BS</td>\n",
       "      <td>S. Layton \"homeschool blogger\"</td>\n",
       "      <td>1</td>\n",
       "      <td>24</td>\n",
       "      <td>2</td>\n",
       "      <td>1173312000</td>\n",
       "      <td>NaN</td>\n",
       "      <td>I only used two maybe three tea bags and got p...</td>\n",
       "    </tr>\n",
       "    <tr>\n",
       "      <th>101106</th>\n",
       "      <td>101107</td>\n",
       "      <td>B0014B0HWK</td>\n",
       "      <td>A3TJPSWY2HE4BS</td>\n",
       "      <td>S. Layton \"homeschool blogger\"</td>\n",
       "      <td>1</td>\n",
       "      <td>24</td>\n",
       "      <td>2</td>\n",
       "      <td>1173312000</td>\n",
       "      <td>NaN</td>\n",
       "      <td>I only used two maybe three tea bags and got p...</td>\n",
       "    </tr>\n",
       "    <tr>\n",
       "      <th>102979</th>\n",
       "      <td>102980</td>\n",
       "      <td>B000FVDWU4</td>\n",
       "      <td>A3TJPSWY2HE4BS</td>\n",
       "      <td>S. Layton \"homeschool blogger\"</td>\n",
       "      <td>1</td>\n",
       "      <td>24</td>\n",
       "      <td>2</td>\n",
       "      <td>1173312000</td>\n",
       "      <td>NaN</td>\n",
       "      <td>I only used two maybe three tea bags and got p...</td>\n",
       "    </tr>\n",
       "    <tr>\n",
       "      <th>117515</th>\n",
       "      <td>117516</td>\n",
       "      <td>B0016B7Z32</td>\n",
       "      <td>A3TJPSWY2HE4BS</td>\n",
       "      <td>S. Layton \"homeschool blogger\"</td>\n",
       "      <td>1</td>\n",
       "      <td>24</td>\n",
       "      <td>2</td>\n",
       "      <td>1173312000</td>\n",
       "      <td>NaN</td>\n",
       "      <td>I only used two maybe three tea bags and got p...</td>\n",
       "    </tr>\n",
       "    <tr>\n",
       "      <th>155712</th>\n",
       "      <td>155713</td>\n",
       "      <td>B0009VO58S</td>\n",
       "      <td>A3TJPSWY2HE4BS</td>\n",
       "      <td>S. Layton \"homeschool blogger\"</td>\n",
       "      <td>1</td>\n",
       "      <td>24</td>\n",
       "      <td>2</td>\n",
       "      <td>1173312000</td>\n",
       "      <td>NaN</td>\n",
       "      <td>I only used two maybe three tea bags and got p...</td>\n",
       "    </tr>\n",
       "    <tr>\n",
       "      <th>178290</th>\n",
       "      <td>178291</td>\n",
       "      <td>B00073IVAQ</td>\n",
       "      <td>A3TJPSWY2HE4BS</td>\n",
       "      <td>S. Layton \"homeschool blogger\"</td>\n",
       "      <td>1</td>\n",
       "      <td>24</td>\n",
       "      <td>2</td>\n",
       "      <td>1173312000</td>\n",
       "      <td>NaN</td>\n",
       "      <td>I only used two maybe three tea bags and got p...</td>\n",
       "    </tr>\n",
       "    <tr>\n",
       "      <th>198474</th>\n",
       "      <td>198475</td>\n",
       "      <td>B000FVBYCW</td>\n",
       "      <td>A3TJPSWY2HE4BS</td>\n",
       "      <td>S. Layton \"homeschool blogger\"</td>\n",
       "      <td>1</td>\n",
       "      <td>24</td>\n",
       "      <td>2</td>\n",
       "      <td>1173312000</td>\n",
       "      <td>NaN</td>\n",
       "      <td>I only used two maybe three tea bags and got p...</td>\n",
       "    </tr>\n",
       "    <tr>\n",
       "      <th>212691</th>\n",
       "      <td>212692</td>\n",
       "      <td>B00020HHAO</td>\n",
       "      <td>A3TJPSWY2HE4BS</td>\n",
       "      <td>S. Layton \"homeschool blogger\"</td>\n",
       "      <td>1</td>\n",
       "      <td>24</td>\n",
       "      <td>2</td>\n",
       "      <td>1173312000</td>\n",
       "      <td>NaN</td>\n",
       "      <td>I only used two maybe three tea bags and got p...</td>\n",
       "    </tr>\n",
       "    <tr>\n",
       "      <th>237565</th>\n",
       "      <td>237566</td>\n",
       "      <td>B000ELGPAO</td>\n",
       "      <td>A15AMT9T9A1309</td>\n",
       "      <td>Film-Friend</td>\n",
       "      <td>1</td>\n",
       "      <td>1</td>\n",
       "      <td>3</td>\n",
       "      <td>1328572800</td>\n",
       "      <td>NaN</td>\n",
       "      <td>This is a cool system only problem is that the...</td>\n",
       "    </tr>\n",
       "    <tr>\n",
       "      <th>293906</th>\n",
       "      <td>293907</td>\n",
       "      <td>B00020HHM2</td>\n",
       "      <td>A3TJPSWY2HE4BS</td>\n",
       "      <td>S. Layton \"homeschool blogger\"</td>\n",
       "      <td>1</td>\n",
       "      <td>24</td>\n",
       "      <td>2</td>\n",
       "      <td>1173312000</td>\n",
       "      <td>NaN</td>\n",
       "      <td>I only used two maybe three tea bags and got p...</td>\n",
       "    </tr>\n",
       "    <tr>\n",
       "      <th>299495</th>\n",
       "      <td>299496</td>\n",
       "      <td>B00142BX68</td>\n",
       "      <td>A3TJPSWY2HE4BS</td>\n",
       "      <td>S. Layton \"homeschool blogger\"</td>\n",
       "      <td>1</td>\n",
       "      <td>24</td>\n",
       "      <td>2</td>\n",
       "      <td>1173312000</td>\n",
       "      <td>NaN</td>\n",
       "      <td>I only used two maybe three tea bags and got p...</td>\n",
       "    </tr>\n",
       "    <tr>\n",
       "      <th>300961</th>\n",
       "      <td>300962</td>\n",
       "      <td>B000VJYTZM</td>\n",
       "      <td>A3TJPSWY2HE4BS</td>\n",
       "      <td>S. Layton \"homeschool blogger\"</td>\n",
       "      <td>1</td>\n",
       "      <td>24</td>\n",
       "      <td>2</td>\n",
       "      <td>1173312000</td>\n",
       "      <td>NaN</td>\n",
       "      <td>I only used two maybe three tea bags and got p...</td>\n",
       "    </tr>\n",
       "    <tr>\n",
       "      <th>333556</th>\n",
       "      <td>333557</td>\n",
       "      <td>B00188S3PM</td>\n",
       "      <td>A3TJPSWY2HE4BS</td>\n",
       "      <td>S. Layton \"homeschool blogger\"</td>\n",
       "      <td>1</td>\n",
       "      <td>24</td>\n",
       "      <td>2</td>\n",
       "      <td>1173312000</td>\n",
       "      <td>NaN</td>\n",
       "      <td>I only used two maybe three tea bags and got p...</td>\n",
       "    </tr>\n",
       "    <tr>\n",
       "      <th>352043</th>\n",
       "      <td>352044</td>\n",
       "      <td>B000M0F58U</td>\n",
       "      <td>A3TJPSWY2HE4BS</td>\n",
       "      <td>S. Layton \"homeschool blogger\"</td>\n",
       "      <td>1</td>\n",
       "      <td>24</td>\n",
       "      <td>2</td>\n",
       "      <td>1173312000</td>\n",
       "      <td>NaN</td>\n",
       "      <td>I only used two maybe three tea bags and got p...</td>\n",
       "    </tr>\n",
       "    <tr>\n",
       "      <th>357215</th>\n",
       "      <td>357216</td>\n",
       "      <td>B0006I5M2M</td>\n",
       "      <td>A3TJPSWY2HE4BS</td>\n",
       "      <td>S. Layton \"homeschool blogger\"</td>\n",
       "      <td>1</td>\n",
       "      <td>24</td>\n",
       "      <td>2</td>\n",
       "      <td>1173312000</td>\n",
       "      <td>NaN</td>\n",
       "      <td>I only used two maybe three tea bags and got p...</td>\n",
       "    </tr>\n",
       "    <tr>\n",
       "      <th>357814</th>\n",
       "      <td>357815</td>\n",
       "      <td>B001GCTTRQ</td>\n",
       "      <td>A3TJPSWY2HE4BS</td>\n",
       "      <td>S. Layton \"homeschool blogger\"</td>\n",
       "      <td>1</td>\n",
       "      <td>24</td>\n",
       "      <td>2</td>\n",
       "      <td>1173312000</td>\n",
       "      <td>NaN</td>\n",
       "      <td>I only used two maybe three tea bags and got p...</td>\n",
       "    </tr>\n",
       "    <tr>\n",
       "      <th>360782</th>\n",
       "      <td>360783</td>\n",
       "      <td>B00020HHHC</td>\n",
       "      <td>A3TJPSWY2HE4BS</td>\n",
       "      <td>S. Layton \"homeschool blogger\"</td>\n",
       "      <td>1</td>\n",
       "      <td>24</td>\n",
       "      <td>2</td>\n",
       "      <td>1173312000</td>\n",
       "      <td>NaN</td>\n",
       "      <td>I only used two maybe three tea bags and got p...</td>\n",
       "    </tr>\n",
       "    <tr>\n",
       "      <th>379473</th>\n",
       "      <td>379474</td>\n",
       "      <td>B007RLRCLK</td>\n",
       "      <td>A3TJPSWY2HE4BS</td>\n",
       "      <td>S. Layton \"homeschool blogger\"</td>\n",
       "      <td>1</td>\n",
       "      <td>24</td>\n",
       "      <td>2</td>\n",
       "      <td>1173312000</td>\n",
       "      <td>NaN</td>\n",
       "      <td>I only used two maybe three tea bags and got p...</td>\n",
       "    </tr>\n",
       "    <tr>\n",
       "      <th>380558</th>\n",
       "      <td>380559</td>\n",
       "      <td>B00014DXCC</td>\n",
       "      <td>A3TJPSWY2HE4BS</td>\n",
       "      <td>S. Layton \"homeschool blogger\"</td>\n",
       "      <td>1</td>\n",
       "      <td>24</td>\n",
       "      <td>2</td>\n",
       "      <td>1173312000</td>\n",
       "      <td>NaN</td>\n",
       "      <td>I only used two maybe three tea bags and got p...</td>\n",
       "    </tr>\n",
       "    <tr>\n",
       "      <th>381313</th>\n",
       "      <td>381314</td>\n",
       "      <td>B00020HHK4</td>\n",
       "      <td>A3TJPSWY2HE4BS</td>\n",
       "      <td>S. Layton \"homeschool blogger\"</td>\n",
       "      <td>1</td>\n",
       "      <td>24</td>\n",
       "      <td>2</td>\n",
       "      <td>1173312000</td>\n",
       "      <td>NaN</td>\n",
       "      <td>I only used two maybe three tea bags and got p...</td>\n",
       "    </tr>\n",
       "    <tr>\n",
       "      <th>386283</th>\n",
       "      <td>386284</td>\n",
       "      <td>B00073JVFU</td>\n",
       "      <td>A3TJPSWY2HE4BS</td>\n",
       "      <td>S. Layton \"homeschool blogger\"</td>\n",
       "      <td>1</td>\n",
       "      <td>24</td>\n",
       "      <td>2</td>\n",
       "      <td>1173312000</td>\n",
       "      <td>NaN</td>\n",
       "      <td>I only used two maybe three tea bags and got p...</td>\n",
       "    </tr>\n",
       "    <tr>\n",
       "      <th>392529</th>\n",
       "      <td>392530</td>\n",
       "      <td>B001H9XOEW</td>\n",
       "      <td>A22R17YPXEULEZ</td>\n",
       "      <td>Liz Wong</td>\n",
       "      <td>0</td>\n",
       "      <td>0</td>\n",
       "      <td>3</td>\n",
       "      <td>1334534400</td>\n",
       "      <td>NaN</td>\n",
       "      <td>I like the product and tried it before I pucha...</td>\n",
       "    </tr>\n",
       "    <tr>\n",
       "      <th>484367</th>\n",
       "      <td>484368</td>\n",
       "      <td>B00020HHGS</td>\n",
       "      <td>A3TJPSWY2HE4BS</td>\n",
       "      <td>S. Layton \"homeschool blogger\"</td>\n",
       "      <td>1</td>\n",
       "      <td>24</td>\n",
       "      <td>2</td>\n",
       "      <td>1173312000</td>\n",
       "      <td>NaN</td>\n",
       "      <td>I only used two maybe three tea bags and got p...</td>\n",
       "    </tr>\n",
       "    <tr>\n",
       "      <th>486640</th>\n",
       "      <td>486641</td>\n",
       "      <td>B0014AUJII</td>\n",
       "      <td>A3TJPSWY2HE4BS</td>\n",
       "      <td>S. Layton \"homeschool blogger\"</td>\n",
       "      <td>1</td>\n",
       "      <td>24</td>\n",
       "      <td>2</td>\n",
       "      <td>1173312000</td>\n",
       "      <td>NaN</td>\n",
       "      <td>I only used two maybe three tea bags and got p...</td>\n",
       "    </tr>\n",
       "    <tr>\n",
       "      <th>503260</th>\n",
       "      <td>503261</td>\n",
       "      <td>B00020HHE0</td>\n",
       "      <td>A3TJPSWY2HE4BS</td>\n",
       "      <td>S. Layton \"homeschool blogger\"</td>\n",
       "      <td>1</td>\n",
       "      <td>24</td>\n",
       "      <td>2</td>\n",
       "      <td>1173312000</td>\n",
       "      <td>NaN</td>\n",
       "      <td>I only used two maybe three tea bags and got p...</td>\n",
       "    </tr>\n",
       "    <tr>\n",
       "      <th>530716</th>\n",
       "      <td>530717</td>\n",
       "      <td>B0014ATRV8</td>\n",
       "      <td>A3TJPSWY2HE4BS</td>\n",
       "      <td>S. Layton \"homeschool blogger\"</td>\n",
       "      <td>1</td>\n",
       "      <td>24</td>\n",
       "      <td>2</td>\n",
       "      <td>1173312000</td>\n",
       "      <td>NaN</td>\n",
       "      <td>I only used two maybe three tea bags and got p...</td>\n",
       "    </tr>\n",
       "  </tbody>\n",
       "</table>\n",
       "</div>"
      ],
      "text/plain": [
       "            Id   ProductId          UserId                     ProfileName  \\\n",
       "33958    33959  B00412W76S  A3TJPSWY2HE4BS  S. Layton \"homeschool blogger\"   \n",
       "40548    40549  B00020HHRW  A3TJPSWY2HE4BS  S. Layton \"homeschool blogger\"   \n",
       "101106  101107  B0014B0HWK  A3TJPSWY2HE4BS  S. Layton \"homeschool blogger\"   \n",
       "102979  102980  B000FVDWU4  A3TJPSWY2HE4BS  S. Layton \"homeschool blogger\"   \n",
       "117515  117516  B0016B7Z32  A3TJPSWY2HE4BS  S. Layton \"homeschool blogger\"   \n",
       "155712  155713  B0009VO58S  A3TJPSWY2HE4BS  S. Layton \"homeschool blogger\"   \n",
       "178290  178291  B00073IVAQ  A3TJPSWY2HE4BS  S. Layton \"homeschool blogger\"   \n",
       "198474  198475  B000FVBYCW  A3TJPSWY2HE4BS  S. Layton \"homeschool blogger\"   \n",
       "212691  212692  B00020HHAO  A3TJPSWY2HE4BS  S. Layton \"homeschool blogger\"   \n",
       "237565  237566  B000ELGPAO  A15AMT9T9A1309                     Film-Friend   \n",
       "293906  293907  B00020HHM2  A3TJPSWY2HE4BS  S. Layton \"homeschool blogger\"   \n",
       "299495  299496  B00142BX68  A3TJPSWY2HE4BS  S. Layton \"homeschool blogger\"   \n",
       "300961  300962  B000VJYTZM  A3TJPSWY2HE4BS  S. Layton \"homeschool blogger\"   \n",
       "333556  333557  B00188S3PM  A3TJPSWY2HE4BS  S. Layton \"homeschool blogger\"   \n",
       "352043  352044  B000M0F58U  A3TJPSWY2HE4BS  S. Layton \"homeschool blogger\"   \n",
       "357215  357216  B0006I5M2M  A3TJPSWY2HE4BS  S. Layton \"homeschool blogger\"   \n",
       "357814  357815  B001GCTTRQ  A3TJPSWY2HE4BS  S. Layton \"homeschool blogger\"   \n",
       "360782  360783  B00020HHHC  A3TJPSWY2HE4BS  S. Layton \"homeschool blogger\"   \n",
       "379473  379474  B007RLRCLK  A3TJPSWY2HE4BS  S. Layton \"homeschool blogger\"   \n",
       "380558  380559  B00014DXCC  A3TJPSWY2HE4BS  S. Layton \"homeschool blogger\"   \n",
       "381313  381314  B00020HHK4  A3TJPSWY2HE4BS  S. Layton \"homeschool blogger\"   \n",
       "386283  386284  B00073JVFU  A3TJPSWY2HE4BS  S. Layton \"homeschool blogger\"   \n",
       "392529  392530  B001H9XOEW  A22R17YPXEULEZ                        Liz Wong   \n",
       "484367  484368  B00020HHGS  A3TJPSWY2HE4BS  S. Layton \"homeschool blogger\"   \n",
       "486640  486641  B0014AUJII  A3TJPSWY2HE4BS  S. Layton \"homeschool blogger\"   \n",
       "503260  503261  B00020HHE0  A3TJPSWY2HE4BS  S. Layton \"homeschool blogger\"   \n",
       "530716  530717  B0014ATRV8  A3TJPSWY2HE4BS  S. Layton \"homeschool blogger\"   \n",
       "\n",
       "        HelpfulnessNumerator  HelpfulnessDenominator  Score        Time  \\\n",
       "33958                      1                      24      2  1173312000   \n",
       "40548                      1                      24      2  1173312000   \n",
       "101106                     1                      24      2  1173312000   \n",
       "102979                     1                      24      2  1173312000   \n",
       "117515                     1                      24      2  1173312000   \n",
       "155712                     1                      24      2  1173312000   \n",
       "178290                     1                      24      2  1173312000   \n",
       "198474                     1                      24      2  1173312000   \n",
       "212691                     1                      24      2  1173312000   \n",
       "237565                     1                       1      3  1328572800   \n",
       "293906                     1                      24      2  1173312000   \n",
       "299495                     1                      24      2  1173312000   \n",
       "300961                     1                      24      2  1173312000   \n",
       "333556                     1                      24      2  1173312000   \n",
       "352043                     1                      24      2  1173312000   \n",
       "357215                     1                      24      2  1173312000   \n",
       "357814                     1                      24      2  1173312000   \n",
       "360782                     1                      24      2  1173312000   \n",
       "379473                     1                      24      2  1173312000   \n",
       "380558                     1                      24      2  1173312000   \n",
       "381313                     1                      24      2  1173312000   \n",
       "386283                     1                      24      2  1173312000   \n",
       "392529                     0                       0      3  1334534400   \n",
       "484367                     1                      24      2  1173312000   \n",
       "486640                     1                      24      2  1173312000   \n",
       "503260                     1                      24      2  1173312000   \n",
       "530716                     1                      24      2  1173312000   \n",
       "\n",
       "       Summary                                               Text  \n",
       "33958      NaN  I only used two maybe three tea bags and got p...  \n",
       "40548      NaN  I only used two maybe three tea bags and got p...  \n",
       "101106     NaN  I only used two maybe three tea bags and got p...  \n",
       "102979     NaN  I only used two maybe three tea bags and got p...  \n",
       "117515     NaN  I only used two maybe three tea bags and got p...  \n",
       "155712     NaN  I only used two maybe three tea bags and got p...  \n",
       "178290     NaN  I only used two maybe three tea bags and got p...  \n",
       "198474     NaN  I only used two maybe three tea bags and got p...  \n",
       "212691     NaN  I only used two maybe three tea bags and got p...  \n",
       "237565     NaN  This is a cool system only problem is that the...  \n",
       "293906     NaN  I only used two maybe three tea bags and got p...  \n",
       "299495     NaN  I only used two maybe three tea bags and got p...  \n",
       "300961     NaN  I only used two maybe three tea bags and got p...  \n",
       "333556     NaN  I only used two maybe three tea bags and got p...  \n",
       "352043     NaN  I only used two maybe three tea bags and got p...  \n",
       "357215     NaN  I only used two maybe three tea bags and got p...  \n",
       "357814     NaN  I only used two maybe three tea bags and got p...  \n",
       "360782     NaN  I only used two maybe three tea bags and got p...  \n",
       "379473     NaN  I only used two maybe three tea bags and got p...  \n",
       "380558     NaN  I only used two maybe three tea bags and got p...  \n",
       "381313     NaN  I only used two maybe three tea bags and got p...  \n",
       "386283     NaN  I only used two maybe three tea bags and got p...  \n",
       "392529     NaN  I like the product and tried it before I pucha...  \n",
       "484367     NaN  I only used two maybe three tea bags and got p...  \n",
       "486640     NaN  I only used two maybe three tea bags and got p...  \n",
       "503260     NaN  I only used two maybe three tea bags and got p...  \n",
       "530716     NaN  I only used two maybe three tea bags and got p...  "
      ]
     },
     "execution_count": 13,
     "metadata": {},
     "output_type": "execute_result"
    }
   ],
   "source": [
    "#locating NaNs in our dataframe \n",
    "df[df['Summary'].isna()]"
   ]
  },
  {
   "cell_type": "code",
   "execution_count": 14,
   "metadata": {},
   "outputs": [],
   "source": [
    "# Summary has 27 null values, but we have Text feature for those reviews.\n",
    "# The text can help us understand the polarity of the review. So , we can keep these records as well"
   ]
  },
  {
   "cell_type": "code",
   "execution_count": 15,
   "metadata": {},
   "outputs": [
    {
     "name": "stderr",
     "output_type": "stream",
     "text": [
      "/Users/anirudhghildiyal/opt/anaconda3/lib/python3.9/site-packages/seaborn/_decorators.py:36: FutureWarning: Pass the following variable as a keyword arg: x. From version 0.12, the only valid positional argument will be `data`, and passing other arguments without an explicit keyword will result in an error or misinterpretation.\n",
      "  warnings.warn(\n"
     ]
    },
    {
     "data": {
      "image/png": "[encoded data removed]",
      "text/plain": [
       "<Figure size 432x288 with 1 Axes>"
      ]
     },
     "metadata": {
      "needs_background": "light"
     },
     "output_type": "display_data"
    },
    {
     "name": "stdout",
     "output_type": "stream",
     "text": [
      "1     52268\n",
      "2     29769\n",
      "3     42640\n",
      "4     80655\n",
      "5    363122\n",
      "Name: Score, dtype: int64\n"
     ]
    }
   ],
   "source": [
    "#plotting a bar chart of the distribution of reviews based on score \n",
    "from matplotlib import pyplot as plt\n",
    "%matplotlib inline\n",
    "import seaborn as sns\n",
    "sns.countplot(df['Score'])\n",
    "plt.title(\"Distribution of Ratings across the entire dataset\")\n",
    "plt.xlabel(\"Ratings of Reviews\")\n",
    "plt.ylabel(\"Number of reviews\")\n",
    "plt.show();\n",
    "print(df['Score'].value_counts().sort_index());"
   ]
  },
  {
   "cell_type": "code",
   "execution_count": 16,
   "metadata": {},
   "outputs": [
    {
     "data": {
      "text/plain": [
       "{'whiskers': [<matplotlib.lines.Line2D at 0x7feaf04cd130>,\n",
       "  <matplotlib.lines.Line2D at 0x7feaf04cd400>],\n",
       " 'caps': [<matplotlib.lines.Line2D at 0x7feaf04cd790>,\n",
       "  <matplotlib.lines.Line2D at 0x7feaf04cd9a0>],\n",
       " 'boxes': [<matplotlib.lines.Line2D at 0x7feaf04bbe20>],\n",
       " 'medians': [<matplotlib.lines.Line2D at 0x7feaf04cdc70>],\n",
       " 'fliers': [<matplotlib.lines.Line2D at 0x7feaf04cdf40>],\n",
       " 'means': []}"
      ]
     },
     "execution_count": 16,
     "metadata": {},
     "output_type": "execute_result"
    },
    {
     "data": {
      "image/png": "[encoded data removed]",
      "text/plain": [
       "<Figure size 432x288 with 1 Axes>"
      ]
     },
     "metadata": {
      "needs_background": "light"
     },
     "output_type": "display_data"
    }
   ],
   "source": [
    "#plotting a boxplot of the distribution of reviews based on score \n",
    "import matplotlib\n",
    "matplotlib.pyplot.boxplot(df['Score'])"
   ]
  },
  {
   "cell_type": "code",
   "execution_count": 17,
   "metadata": {},
   "outputs": [],
   "source": [
    "#We have 1 and 2 score values as outliers which are imperative in distinguishing the polarity of reviews into positive or negative reviews"
   ]
  },
  {
   "cell_type": "code",
   "execution_count": 18,
   "metadata": {},
   "outputs": [],
   "source": [
    "#Given a review, determine whether the review is positive (Rating of 4 or 5) or negative (rating of 1 or 2).\n",
    "\n",
    "# How to determine if a review is positive or negative?\n",
    "# We could use the Score/Rating. A rating of 4 or 5 could be cosnidered a positive review.\n",
    "# A review of 1 or 2 could be considered negative. A review of 3 is neutral and ignored. \n",
    "# This is an approximate and proxy way of determining the polarity (positivity/negativity) of a review."
   ]
  },
  {
   "cell_type": "code",
   "execution_count": 19,
   "metadata": {},
   "outputs": [],
   "source": [
    "df=df[df['Score']!=3]\n",
    "#Now, data will contain only with the rows containing Score=1 and Score=2 and Score=4 and Score=5"
   ]
  },
  {
   "cell_type": "code",
   "execution_count": 20,
   "metadata": {},
   "outputs": [
    {
     "data": {
      "text/plain": [
       "array([5, 1, 4, 2])"
      ]
     },
     "execution_count": 20,
     "metadata": {},
     "output_type": "execute_result"
    }
   ],
   "source": [
    "df['Score'].unique()\n",
    "#finding unique score values, as we can see we have removed 3-star scores "
   ]
  },
  {
   "cell_type": "code",
   "execution_count": 21,
   "metadata": {},
   "outputs": [],
   "source": [
    "#Let’s convert the score values into class label either - positive or negative"
   ]
  },
  {
   "cell_type": "code",
   "execution_count": 22,
   "metadata": {},
   "outputs": [
    {
     "data": {
      "text/html": [
       "<div>\n",
       "<style scoped>\n",
       "    .dataframe tbody tr th:only-of-type {\n",
       "        vertical-align: middle;\n",
       "    }\n",
       "\n",
       "    .dataframe tbody tr th {\n",
       "        vertical-align: top;\n",
       "    }\n",
       "\n",
       "    .dataframe thead th {\n",
       "        text-align: right;\n",
       "    }\n",
       "</style>\n",
       "<table border=\"1\" class=\"dataframe\">\n",
       "  <thead>\n",
       "    <tr style=\"text-align: right;\">\n",
       "      <th></th>\n",
       "      <th>Id</th>\n",
       "      <th>ProductId</th>\n",
       "      <th>UserId</th>\n",
       "      <th>ProfileName</th>\n",
       "      <th>HelpfulnessNumerator</th>\n",
       "      <th>HelpfulnessDenominator</th>\n",
       "      <th>Score</th>\n",
       "      <th>Time</th>\n",
       "      <th>Summary</th>\n",
       "      <th>Text</th>\n",
       "    </tr>\n",
       "  </thead>\n",
       "  <tbody>\n",
       "    <tr>\n",
       "      <th>0</th>\n",
       "      <td>1</td>\n",
       "      <td>B001E4KFG0</td>\n",
       "      <td>A3SGXH7AUHU8GW</td>\n",
       "      <td>delmartian</td>\n",
       "      <td>1</td>\n",
       "      <td>1</td>\n",
       "      <td>positive</td>\n",
       "      <td>1303862400</td>\n",
       "      <td>Good Quality Dog Food</td>\n",
       "      <td>I have bought several of the Vitality canned d...</td>\n",
       "    </tr>\n",
       "    <tr>\n",
       "      <th>1</th>\n",
       "      <td>2</td>\n",
       "      <td>B00813GRG4</td>\n",
       "      <td>A1D87F6ZCVE5NK</td>\n",
       "      <td>dll pa</td>\n",
       "      <td>0</td>\n",
       "      <td>0</td>\n",
       "      <td>negative</td>\n",
       "      <td>1346976000</td>\n",
       "      <td>Not as Advertised</td>\n",
       "      <td>Product arrived labeled as Jumbo Salted Peanut...</td>\n",
       "    </tr>\n",
       "    <tr>\n",
       "      <th>2</th>\n",
       "      <td>3</td>\n",
       "      <td>B000LQOCH0</td>\n",
       "      <td>ABXLMWJIXXAIN</td>\n",
       "      <td>Natalia Corres \"Natalia Corres\"</td>\n",
       "      <td>1</td>\n",
       "      <td>1</td>\n",
       "      <td>positive</td>\n",
       "      <td>1219017600</td>\n",
       "      <td>\"Delight\" says it all</td>\n",
       "      <td>This is a confection that has been around a fe...</td>\n",
       "    </tr>\n",
       "    <tr>\n",
       "      <th>3</th>\n",
       "      <td>4</td>\n",
       "      <td>B000UA0QIQ</td>\n",
       "      <td>A395BORC6FGVXV</td>\n",
       "      <td>Karl</td>\n",
       "      <td>3</td>\n",
       "      <td>3</td>\n",
       "      <td>negative</td>\n",
       "      <td>1307923200</td>\n",
       "      <td>Cough Medicine</td>\n",
       "      <td>If you are looking for the secret ingredient i...</td>\n",
       "    </tr>\n",
       "    <tr>\n",
       "      <th>4</th>\n",
       "      <td>5</td>\n",
       "      <td>B006K2ZZ7K</td>\n",
       "      <td>A1UQRSCLF8GW1T</td>\n",
       "      <td>Michael D. Bigham \"M. Wassir\"</td>\n",
       "      <td>0</td>\n",
       "      <td>0</td>\n",
       "      <td>positive</td>\n",
       "      <td>1350777600</td>\n",
       "      <td>Great taffy</td>\n",
       "      <td>Great taffy at a great price.  There was a wid...</td>\n",
       "    </tr>\n",
       "    <tr>\n",
       "      <th>...</th>\n",
       "      <td>...</td>\n",
       "      <td>...</td>\n",
       "      <td>...</td>\n",
       "      <td>...</td>\n",
       "      <td>...</td>\n",
       "      <td>...</td>\n",
       "      <td>...</td>\n",
       "      <td>...</td>\n",
       "      <td>...</td>\n",
       "      <td>...</td>\n",
       "    </tr>\n",
       "    <tr>\n",
       "      <th>568449</th>\n",
       "      <td>568450</td>\n",
       "      <td>B001EO7N10</td>\n",
       "      <td>A28KG5XORO54AY</td>\n",
       "      <td>Lettie D. Carter</td>\n",
       "      <td>0</td>\n",
       "      <td>0</td>\n",
       "      <td>positive</td>\n",
       "      <td>1299628800</td>\n",
       "      <td>Will not do without</td>\n",
       "      <td>Great for sesame chicken..this is a good if no...</td>\n",
       "    </tr>\n",
       "    <tr>\n",
       "      <th>568450</th>\n",
       "      <td>568451</td>\n",
       "      <td>B003S1WTCU</td>\n",
       "      <td>A3I8AFVPEE8KI5</td>\n",
       "      <td>R. Sawyer</td>\n",
       "      <td>0</td>\n",
       "      <td>0</td>\n",
       "      <td>negative</td>\n",
       "      <td>1331251200</td>\n",
       "      <td>disappointed</td>\n",
       "      <td>I'm disappointed with the flavor. The chocolat...</td>\n",
       "    </tr>\n",
       "    <tr>\n",
       "      <th>568451</th>\n",
       "      <td>568452</td>\n",
       "      <td>B004I613EE</td>\n",
       "      <td>A121AA1GQV751Z</td>\n",
       "      <td>pksd \"pk_007\"</td>\n",
       "      <td>2</td>\n",
       "      <td>2</td>\n",
       "      <td>positive</td>\n",
       "      <td>1329782400</td>\n",
       "      <td>Perfect for our maltipoo</td>\n",
       "      <td>These stars are small, so you can give 10-15 o...</td>\n",
       "    </tr>\n",
       "    <tr>\n",
       "      <th>568452</th>\n",
       "      <td>568453</td>\n",
       "      <td>B004I613EE</td>\n",
       "      <td>A3IBEVCTXKNOH</td>\n",
       "      <td>Kathy A. Welch \"katwel\"</td>\n",
       "      <td>1</td>\n",
       "      <td>1</td>\n",
       "      <td>positive</td>\n",
       "      <td>1331596800</td>\n",
       "      <td>Favorite Training and reward treat</td>\n",
       "      <td>These are the BEST treats for training and rew...</td>\n",
       "    </tr>\n",
       "    <tr>\n",
       "      <th>568453</th>\n",
       "      <td>568454</td>\n",
       "      <td>B001LR2CU2</td>\n",
       "      <td>A3LGQPJCZVL9UC</td>\n",
       "      <td>srfell17</td>\n",
       "      <td>0</td>\n",
       "      <td>0</td>\n",
       "      <td>positive</td>\n",
       "      <td>1338422400</td>\n",
       "      <td>Great Honey</td>\n",
       "      <td>I am very satisfied ,product is as advertised,...</td>\n",
       "    </tr>\n",
       "  </tbody>\n",
       "</table>\n",
       "<p>525814 rows × 10 columns</p>\n",
       "</div>"
      ],
      "text/plain": [
       "            Id   ProductId          UserId                      ProfileName  \\\n",
       "0            1  B001E4KFG0  A3SGXH7AUHU8GW                       delmartian   \n",
       "1            2  B00813GRG4  A1D87F6ZCVE5NK                           dll pa   \n",
       "2            3  B000LQOCH0   ABXLMWJIXXAIN  Natalia Corres \"Natalia Corres\"   \n",
       "3            4  B000UA0QIQ  A395BORC6FGVXV                             Karl   \n",
       "4            5  B006K2ZZ7K  A1UQRSCLF8GW1T    Michael D. Bigham \"M. Wassir\"   \n",
       "...        ...         ...             ...                              ...   \n",
       "568449  568450  B001EO7N10  A28KG5XORO54AY                 Lettie D. Carter   \n",
       "568450  568451  B003S1WTCU  A3I8AFVPEE8KI5                        R. Sawyer   \n",
       "568451  568452  B004I613EE  A121AA1GQV751Z                    pksd \"pk_007\"   \n",
       "568452  568453  B004I613EE   A3IBEVCTXKNOH          Kathy A. Welch \"katwel\"   \n",
       "568453  568454  B001LR2CU2  A3LGQPJCZVL9UC                         srfell17   \n",
       "\n",
       "        HelpfulnessNumerator  HelpfulnessDenominator     Score        Time  \\\n",
       "0                          1                       1  positive  1303862400   \n",
       "1                          0                       0  negative  1346976000   \n",
       "2                          1                       1  positive  1219017600   \n",
       "3                          3                       3  negative  1307923200   \n",
       "4                          0                       0  positive  1350777600   \n",
       "...                      ...                     ...       ...         ...   \n",
       "568449                     0                       0  positive  1299628800   \n",
       "568450                     0                       0  negative  1331251200   \n",
       "568451                     2                       2  positive  1329782400   \n",
       "568452                     1                       1  positive  1331596800   \n",
       "568453                     0                       0  positive  1338422400   \n",
       "\n",
       "                                   Summary  \\\n",
       "0                    Good Quality Dog Food   \n",
       "1                        Not as Advertised   \n",
       "2                    \"Delight\" says it all   \n",
       "3                           Cough Medicine   \n",
       "4                              Great taffy   \n",
       "...                                    ...   \n",
       "568449                 Will not do without   \n",
       "568450                        disappointed   \n",
       "568451            Perfect for our maltipoo   \n",
       "568452  Favorite Training and reward treat   \n",
       "568453                         Great Honey   \n",
       "\n",
       "                                                     Text  \n",
       "0       I have bought several of the Vitality canned d...  \n",
       "1       Product arrived labeled as Jumbo Salted Peanut...  \n",
       "2       This is a confection that has been around a fe...  \n",
       "3       If you are looking for the secret ingredient i...  \n",
       "4       Great taffy at a great price.  There was a wid...  \n",
       "...                                                   ...  \n",
       "568449  Great for sesame chicken..this is a good if no...  \n",
       "568450  I'm disappointed with the flavor. The chocolat...  \n",
       "568451  These stars are small, so you can give 10-15 o...  \n",
       "568452  These are the BEST treats for training and rew...  \n",
       "568453  I am very satisfied ,product is as advertised,...  \n",
       "\n",
       "[525814 rows x 10 columns]"
      ]
     },
     "execution_count": 22,
     "metadata": {},
     "output_type": "execute_result"
    }
   ],
   "source": [
    "def xyz(x):\n",
    "    if x>3:\n",
    "        return 'positive'\n",
    "    else:\n",
    "        return 'negative'\n",
    "s=df['Score']\n",
    "d=list(map(xyz,s))\n",
    "df['Score']=d\n",
    "df"
   ]
  },
  {
   "cell_type": "code",
   "execution_count": 23,
   "metadata": {},
   "outputs": [],
   "source": [
    "#First, we  have checked duplicates based on UserId, ProfileName, Time, Text\n",
    "#(because no user cannot review on same products on same time). \n",
    "#If we find any duplicates regarding this, we remove those records.\n",
    "\n",
    "#Also, Helpfulness numerator must be less than or equal to helpfulness denominator, \n",
    "#so checking the records and remove these records."
   ]
  },
  {
   "cell_type": "code",
   "execution_count": 24,
   "metadata": {},
   "outputs": [
    {
     "data": {
      "text/plain": [
       "(365331, 11)"
      ]
     },
     "execution_count": 24,
     "metadata": {},
     "output_type": "execute_result"
    }
   ],
   "source": [
    "data_f=df.sort_values('ProductId').drop_duplicates(subset=['UserId','ProfileName','Time','Summary','Text'],keep='first',inplace=False)\n",
    "Final_Values=data_f[data_f['HelpfulnessDenominator']>=data_f['HelpfulnessNumerator']]\n",
    "Final_Values.reset_index(inplace=True)\n",
    "Final_Values.shape"
   ]
  },
  {
   "cell_type": "code",
   "execution_count": 25,
   "metadata": {},
   "outputs": [
    {
     "data": {
      "text/html": [
       "<div>\n",
       "<style scoped>\n",
       "    .dataframe tbody tr th:only-of-type {\n",
       "        vertical-align: middle;\n",
       "    }\n",
       "\n",
       "    .dataframe tbody tr th {\n",
       "        vertical-align: top;\n",
       "    }\n",
       "\n",
       "    .dataframe thead th {\n",
       "        text-align: right;\n",
       "    }\n",
       "</style>\n",
       "<table border=\"1\" class=\"dataframe\">\n",
       "  <thead>\n",
       "    <tr style=\"text-align: right;\">\n",
       "      <th></th>\n",
       "      <th>index</th>\n",
       "      <th>Id</th>\n",
       "      <th>ProductId</th>\n",
       "      <th>UserId</th>\n",
       "      <th>ProfileName</th>\n",
       "      <th>HelpfulnessNumerator</th>\n",
       "      <th>HelpfulnessDenominator</th>\n",
       "      <th>Score</th>\n",
       "      <th>Time</th>\n",
       "      <th>Summary</th>\n",
       "      <th>Text</th>\n",
       "    </tr>\n",
       "  </thead>\n",
       "  <tbody>\n",
       "    <tr>\n",
       "      <th>0</th>\n",
       "      <td>150523</td>\n",
       "      <td>150524</td>\n",
       "      <td>0006641040</td>\n",
       "      <td>ACITT7DI6IDDL</td>\n",
       "      <td>shari zychinski</td>\n",
       "      <td>0</td>\n",
       "      <td>0</td>\n",
       "      <td>positive</td>\n",
       "      <td>939340800</td>\n",
       "      <td>EVERY book is educational</td>\n",
       "      <td>this witty little book makes my son laugh at l...</td>\n",
       "    </tr>\n",
       "    <tr>\n",
       "      <th>1</th>\n",
       "      <td>150505</td>\n",
       "      <td>150506</td>\n",
       "      <td>0006641040</td>\n",
       "      <td>A2IW4PEEKO2R0U</td>\n",
       "      <td>Tracy</td>\n",
       "      <td>1</td>\n",
       "      <td>1</td>\n",
       "      <td>positive</td>\n",
       "      <td>1194739200</td>\n",
       "      <td>Love the book, miss the hard cover version</td>\n",
       "      <td>I grew up reading these Sendak books, and watc...</td>\n",
       "    </tr>\n",
       "    <tr>\n",
       "      <th>2</th>\n",
       "      <td>150506</td>\n",
       "      <td>150507</td>\n",
       "      <td>0006641040</td>\n",
       "      <td>A1S4A3IQ2MU7V4</td>\n",
       "      <td>sally sue \"sally sue\"</td>\n",
       "      <td>1</td>\n",
       "      <td>1</td>\n",
       "      <td>positive</td>\n",
       "      <td>1191456000</td>\n",
       "      <td>chicken soup with rice months</td>\n",
       "      <td>This is a fun way for children to learn their ...</td>\n",
       "    </tr>\n",
       "    <tr>\n",
       "      <th>3</th>\n",
       "      <td>150507</td>\n",
       "      <td>150508</td>\n",
       "      <td>0006641040</td>\n",
       "      <td>AZGXZ2UUK6X</td>\n",
       "      <td>Catherine Hallberg \"(Kate)\"</td>\n",
       "      <td>1</td>\n",
       "      <td>1</td>\n",
       "      <td>positive</td>\n",
       "      <td>1076025600</td>\n",
       "      <td>a good swingy rhythm for reading aloud</td>\n",
       "      <td>This is a great little book to read aloud- it ...</td>\n",
       "    </tr>\n",
       "    <tr>\n",
       "      <th>4</th>\n",
       "      <td>150508</td>\n",
       "      <td>150509</td>\n",
       "      <td>0006641040</td>\n",
       "      <td>A3CMRKGE0P909G</td>\n",
       "      <td>Teresa</td>\n",
       "      <td>3</td>\n",
       "      <td>4</td>\n",
       "      <td>positive</td>\n",
       "      <td>1018396800</td>\n",
       "      <td>A great way to learn the months</td>\n",
       "      <td>This is a book of poetry about the months of t...</td>\n",
       "    </tr>\n",
       "  </tbody>\n",
       "</table>\n",
       "</div>"
      ],
      "text/plain": [
       "    index      Id   ProductId          UserId                  ProfileName  \\\n",
       "0  150523  150524  0006641040   ACITT7DI6IDDL              shari zychinski   \n",
       "1  150505  150506  0006641040  A2IW4PEEKO2R0U                        Tracy   \n",
       "2  150506  150507  0006641040  A1S4A3IQ2MU7V4        sally sue \"sally sue\"   \n",
       "3  150507  150508  0006641040     AZGXZ2UUK6X  Catherine Hallberg \"(Kate)\"   \n",
       "4  150508  150509  0006641040  A3CMRKGE0P909G                       Teresa   \n",
       "\n",
       "   HelpfulnessNumerator  HelpfulnessDenominator     Score        Time  \\\n",
       "0                     0                       0  positive   939340800   \n",
       "1                     1                       1  positive  1194739200   \n",
       "2                     1                       1  positive  1191456000   \n",
       "3                     1                       1  positive  1076025600   \n",
       "4                     3                       4  positive  1018396800   \n",
       "\n",
       "                                      Summary  \\\n",
       "0                   EVERY book is educational   \n",
       "1  Love the book, miss the hard cover version   \n",
       "2               chicken soup with rice months   \n",
       "3      a good swingy rhythm for reading aloud   \n",
       "4             A great way to learn the months   \n",
       "\n",
       "                                                Text  \n",
       "0  this witty little book makes my son laugh at l...  \n",
       "1  I grew up reading these Sendak books, and watc...  \n",
       "2  This is a fun way for children to learn their ...  \n",
       "3  This is a great little book to read aloud- it ...  \n",
       "4  This is a book of poetry about the months of t...  "
      ]
     },
     "execution_count": 25,
     "metadata": {},
     "output_type": "execute_result"
    }
   ],
   "source": [
    "#our final dataframe \n",
    "Final_Values.head()"
   ]
  },
  {
   "cell_type": "code",
   "execution_count": 26,
   "metadata": {},
   "outputs": [],
   "source": [
    "# Text-Preprocessing:\n",
    "\n",
    "#Stemming: It is a technique which can convert words to their base word or stem word(i.e tasty, tastefully \n",
    "# is converted into base word tasti ….)\n",
    "\n",
    "#Stopwords: These are some unimportant words even if you remove them from sentences,\n",
    "# semantic meaning of the text doesn’t change.\n",
    "\n",
    "#Example: This restaurant is good (Here - ( This, is ) are stopwords)\n"
   ]
  },
  {
   "cell_type": "code",
   "execution_count": 27,
   "metadata": {},
   "outputs": [],
   "source": [
    "#pip install nltk"
   ]
  },
  {
   "cell_type": "code",
   "execution_count": 28,
   "metadata": {},
   "outputs": [],
   "source": [
    "import nltk\n",
    "#nltk.download()"
   ]
  },
  {
   "cell_type": "code",
   "execution_count": 29,
   "metadata": {},
   "outputs": [
    {
     "name": "stdout",
     "output_type": "stream",
     "text": [
      "{'him', 's', \"hasn't\", 're', \"wasn't\", 'during', 'nor', 'you', \"you're\", 'was', 'in', 'did', 'have', 'isn', 'this', 'not', \"you've\", 'more', 'to', 'with', 'its', 'such', \"isn't\", 'few', 'when', 'only', 'aren', 'should', 'why', 'won', \"she's\", 'and', 'further', 'theirs', 'hasn', 'shan', 'his', 'yours', 'but', \"haven't\", \"you'd\", \"won't\", 'from', 'as', 'it', 'will', 'while', 'yourself', 'doing', 'once', \"don't\", 'against', 'a', 'myself', 'he', \"wouldn't\", 'which', 'down', 'couldn', 'shouldn', 'himself', 'them', \"should've\", 't', 'whom', 'than', 'above', 'below', \"needn't\", 'they', 'having', 'be', 'into', 'off', 'those', 'where', 'wouldn', 'about', 'does', 'ourselves', 'any', 'herself', 'just', 'don', 'being', 'o', 'hers', 'll', 'ma', 'at', 'didn', \"shouldn't\", 'by', 'she', 'these', 'that', 'can', 'here', 'were', \"didn't\", 'now', 'haven', 'y', 'your', 'is', 'the', \"doesn't\", \"hadn't\", 'needn', \"shan't\", 'their', 'wasn', \"it's\", \"weren't\", 'my', 'so', 'hadn', 'ain', 'doesn', 'between', 'before', 'me', 'both', 'then', \"aren't\", 'over', 'do', 'how', 'after', 'had', 'under', 'most', 'itself', 'if', 'out', 'mightn', 've', 'her', 'what', 'for', 'too', 'on', 'mustn', 'weren', 'same', 'or', 'we', 'has', 'our', 'ours', 'again', 'other', 'until', 'because', 'there', 'own', 'yourselves', 'been', \"that'll\", 'are', 'i', 'an', 'themselves', 'all', 'am', 'd', 'very', 'of', \"mightn't\", 'no', \"you'll\", 'who', 'through', 'up', 'some', 'each', \"mustn't\", \"couldn't\", 'm'}\n"
     ]
    }
   ],
   "source": [
    "#importing stopwords\n",
    "from nltk.corpus import stopwords\n",
    "stop=set(stopwords.words('english'))\n",
    "print(stop)"
   ]
  },
  {
   "cell_type": "code",
   "execution_count": 30,
   "metadata": {},
   "outputs": [
    {
     "name": "stderr",
     "output_type": "stream",
     "text": [
      "/Users/anirudhghildiyal/opt/anaconda3/lib/python3.9/site-packages/bs4/__init__.py:435: MarkupResemblesLocatorWarning: The input looks more like a filename than markup. You may want to open this file and pass the filehandle into Beautiful Soup.\n",
      "  warnings.warn(\n"
     ]
    }
   ],
   "source": [
    "#stemming our data by removing the stopwords \n",
    "\n",
    "import nltk\n",
    "from nltk.corpus import stopwords\n",
    "from nltk.stem import SnowballStemmer\n",
    "import numpy\n",
    "import re\n",
    "from bs4 import BeautifulSoup\n",
    "stop=set(stopwords.words('english'))\n",
    "snow = nltk.stem.SnowballStemmer('english')\n",
    "stop\n",
    "def decontracted(phrase):\n",
    "    phrase=re.sub(r\"won't\",\"will not\",phrase)\n",
    "    phrase=re.sub(r\"can't\",\"can not\",phrase)\n",
    "    phrase=re.sub(r\"n\\'t\",\"not\",phrase)\n",
    "    phrase=re.sub(r\"\\'re\",\"are\",phrase)\n",
    "    phrase=re.sub(r\"\\'s\",\"is\",phrase)\n",
    "    phrase=re.sub(r\"\\'d\",\"would\",phrase)\n",
    "    phrase=re.sub(r\"\\'ll\",\"will\",phrase)    \n",
    "    phrase=re.sub(r\"\\'t\",\"not\",sentence)\n",
    "    phrase=re.sub(r\"\\'ve\",\"have\",sentence)\n",
    "    phrase=re.sub(r\"\\'m\",\"am\",sentence)\n",
    "    return phrase\n",
    "preprocessed_reviews=[]\n",
    "for sentence in Final_Values['Text'].values:\n",
    "    sentence=re.sub(r\"http\\S+\",\" \",sentence)\n",
    "    sentence=BeautifulSoup(sentence,'lxml').get_text()\n",
    "    cleanr=re.compile('<.*?>')\n",
    "    sentence=re.sub(cleanr,' ',sentence)\n",
    "    sentence=decontracted(sentence)\n",
    "    sentence=re.sub(\"\\S\\*\\d\\S*\",\" \",sentence)\n",
    "    sentence=re.sub(\"[^A-Za-z]+\",\" \",sentence)\n",
    "    sentence=re.sub(r'[?|!|\\'|\"|#]',r' ',sentence)\n",
    "    sentence=re.sub(r'[.|,|)|(|\\|/]',r' ',sentence)\n",
    "    sentence='  '.join(snow.stem(e.lower()) for e in sentence.split() if e.lower() not in stop)\n",
    "    preprocessed_reviews.append(sentence.strip())"
   ]
  },
  {
   "cell_type": "code",
   "execution_count": 31,
   "metadata": {},
   "outputs": [
    {
     "data": {
      "text/plain": [
       "365331"
      ]
     },
     "execution_count": 31,
     "metadata": {},
     "output_type": "execute_result"
    }
   ],
   "source": [
    "len(preprocessed_reviews)"
   ]
  },
  {
   "cell_type": "code",
   "execution_count": 32,
   "metadata": {},
   "outputs": [
    {
     "data": {
      "text/html": [
       "<div>\n",
       "<style scoped>\n",
       "    .dataframe tbody tr th:only-of-type {\n",
       "        vertical-align: middle;\n",
       "    }\n",
       "\n",
       "    .dataframe tbody tr th {\n",
       "        vertical-align: top;\n",
       "    }\n",
       "\n",
       "    .dataframe thead th {\n",
       "        text-align: right;\n",
       "    }\n",
       "</style>\n",
       "<table border=\"1\" class=\"dataframe\">\n",
       "  <thead>\n",
       "    <tr style=\"text-align: right;\">\n",
       "      <th></th>\n",
       "      <th>index</th>\n",
       "      <th>Id</th>\n",
       "      <th>ProductId</th>\n",
       "      <th>UserId</th>\n",
       "      <th>ProfileName</th>\n",
       "      <th>HelpfulnessNumerator</th>\n",
       "      <th>HelpfulnessDenominator</th>\n",
       "      <th>Score</th>\n",
       "      <th>Time</th>\n",
       "      <th>Summary</th>\n",
       "      <th>Text</th>\n",
       "    </tr>\n",
       "  </thead>\n",
       "  <tbody>\n",
       "    <tr>\n",
       "      <th>217759</th>\n",
       "      <td>309989</td>\n",
       "      <td>309990</td>\n",
       "      <td>B001SIRU42</td>\n",
       "      <td>AORX96EBG7M1N</td>\n",
       "      <td>J. Rhodes</td>\n",
       "      <td>0</td>\n",
       "      <td>0</td>\n",
       "      <td>positive</td>\n",
       "      <td>1348963200</td>\n",
       "      <td>awesome</td>\n",
       "      <td>The best jerky on the market And i have tried ...</td>\n",
       "    </tr>\n",
       "    <tr>\n",
       "      <th>198400</th>\n",
       "      <td>567460</td>\n",
       "      <td>567461</td>\n",
       "      <td>B001HTIRTY</td>\n",
       "      <td>A1VGQWBI5UGM17</td>\n",
       "      <td>Melissa Trickey</td>\n",
       "      <td>1</td>\n",
       "      <td>4</td>\n",
       "      <td>negative</td>\n",
       "      <td>1296086400</td>\n",
       "      <td>Worst Indian Prepared-Food I Have Ever Eaten</td>\n",
       "      <td>Patak's Rogan Josh Curry Cooking Sauce is disg...</td>\n",
       "    </tr>\n",
       "    <tr>\n",
       "      <th>203626</th>\n",
       "      <td>207986</td>\n",
       "      <td>207987</td>\n",
       "      <td>B001KYBRO8</td>\n",
       "      <td>A1F8WSZFKS6R2E</td>\n",
       "      <td>Jess</td>\n",
       "      <td>1</td>\n",
       "      <td>1</td>\n",
       "      <td>negative</td>\n",
       "      <td>1310256000</td>\n",
       "      <td>Cute but not very tasteful!</td>\n",
       "      <td>I ordered these for my son's B-day party being...</td>\n",
       "    </tr>\n",
       "    <tr>\n",
       "      <th>357465</th>\n",
       "      <td>563284</td>\n",
       "      <td>563285</td>\n",
       "      <td>B007JFMH8M</td>\n",
       "      <td>A6B6BSUWGCBC3</td>\n",
       "      <td>Ash</td>\n",
       "      <td>0</td>\n",
       "      <td>0</td>\n",
       "      <td>positive</td>\n",
       "      <td>1342051200</td>\n",
       "      <td>Quaker Oatmeal raisin Cookie I ' U</td>\n",
       "      <td>I received this Quaker oatmeal raisin cookie i...</td>\n",
       "    </tr>\n",
       "    <tr>\n",
       "      <th>295191</th>\n",
       "      <td>328867</td>\n",
       "      <td>328868</td>\n",
       "      <td>B0042GDN8Y</td>\n",
       "      <td>A18Z0AQ1IQCWG3</td>\n",
       "      <td>Richard S. Reynolds \"Bookasaurus Rex\"</td>\n",
       "      <td>1</td>\n",
       "      <td>1</td>\n",
       "      <td>positive</td>\n",
       "      <td>1322006400</td>\n",
       "      <td>The perfect choclate</td>\n",
       "      <td>Delicious combination of fine liquors in choco...</td>\n",
       "    </tr>\n",
       "  </tbody>\n",
       "</table>\n",
       "</div>"
      ],
      "text/plain": [
       "         index      Id   ProductId          UserId  \\\n",
       "217759  309989  309990  B001SIRU42   AORX96EBG7M1N   \n",
       "198400  567460  567461  B001HTIRTY  A1VGQWBI5UGM17   \n",
       "203626  207986  207987  B001KYBRO8  A1F8WSZFKS6R2E   \n",
       "357465  563284  563285  B007JFMH8M   A6B6BSUWGCBC3   \n",
       "295191  328867  328868  B0042GDN8Y  A18Z0AQ1IQCWG3   \n",
       "\n",
       "                                  ProfileName  HelpfulnessNumerator  \\\n",
       "217759                              J. Rhodes                     0   \n",
       "198400                        Melissa Trickey                     1   \n",
       "203626                                   Jess                     1   \n",
       "357465                                    Ash                     0   \n",
       "295191  Richard S. Reynolds \"Bookasaurus Rex\"                     1   \n",
       "\n",
       "        HelpfulnessDenominator     Score        Time  \\\n",
       "217759                       0  positive  1348963200   \n",
       "198400                       4  negative  1296086400   \n",
       "203626                       1  negative  1310256000   \n",
       "357465                       0  positive  1342051200   \n",
       "295191                       1  positive  1322006400   \n",
       "\n",
       "                                             Summary  \\\n",
       "217759                                       awesome   \n",
       "198400  Worst Indian Prepared-Food I Have Ever Eaten   \n",
       "203626                   Cute but not very tasteful!   \n",
       "357465            Quaker Oatmeal raisin Cookie I ' U   \n",
       "295191                          The perfect choclate   \n",
       "\n",
       "                                                     Text  \n",
       "217759  The best jerky on the market And i have tried ...  \n",
       "198400  Patak's Rogan Josh Curry Cooking Sauce is disg...  \n",
       "203626  I ordered these for my son's B-day party being...  \n",
       "357465  I received this Quaker oatmeal raisin cookie i...  \n",
       "295191  Delicious combination of fine liquors in choco...  "
      ]
     },
     "execution_count": 32,
     "metadata": {},
     "output_type": "execute_result"
    }
   ],
   "source": [
    "#taking a sample dataset of 5000\n",
    "\n",
    "sample_data = Final_Values.sample(n = 5000)\n",
    "sample_data.head()"
   ]
  },
  {
   "cell_type": "code",
   "execution_count": 33,
   "metadata": {},
   "outputs": [],
   "source": [
    "#dropping the unnecessary columns\n",
    "sample_data.drop(columns = ['Id', 'ProductId', 'UserId','ProfileName', 'Time', 'Summary'], inplace=True)"
   ]
  },
  {
   "cell_type": "code",
   "execution_count": 34,
   "metadata": {},
   "outputs": [
    {
     "data": {
      "text/html": [
       "<div>\n",
       "<style scoped>\n",
       "    .dataframe tbody tr th:only-of-type {\n",
       "        vertical-align: middle;\n",
       "    }\n",
       "\n",
       "    .dataframe tbody tr th {\n",
       "        vertical-align: top;\n",
       "    }\n",
       "\n",
       "    .dataframe thead th {\n",
       "        text-align: right;\n",
       "    }\n",
       "</style>\n",
       "<table border=\"1\" class=\"dataframe\">\n",
       "  <thead>\n",
       "    <tr style=\"text-align: right;\">\n",
       "      <th></th>\n",
       "      <th>index</th>\n",
       "      <th>HelpfulnessNumerator</th>\n",
       "      <th>HelpfulnessDenominator</th>\n",
       "      <th>Score</th>\n",
       "      <th>Text</th>\n",
       "    </tr>\n",
       "  </thead>\n",
       "  <tbody>\n",
       "    <tr>\n",
       "      <th>217759</th>\n",
       "      <td>309989</td>\n",
       "      <td>0</td>\n",
       "      <td>0</td>\n",
       "      <td>positive</td>\n",
       "      <td>The best jerky on the market And i have tried ...</td>\n",
       "    </tr>\n",
       "    <tr>\n",
       "      <th>198400</th>\n",
       "      <td>567460</td>\n",
       "      <td>1</td>\n",
       "      <td>4</td>\n",
       "      <td>negative</td>\n",
       "      <td>Patak's Rogan Josh Curry Cooking Sauce is disg...</td>\n",
       "    </tr>\n",
       "  </tbody>\n",
       "</table>\n",
       "</div>"
      ],
      "text/plain": [
       "         index  HelpfulnessNumerator  HelpfulnessDenominator     Score  \\\n",
       "217759  309989                     0                       0  positive   \n",
       "198400  567460                     1                       4  negative   \n",
       "\n",
       "                                                     Text  \n",
       "217759  The best jerky on the market And i have tried ...  \n",
       "198400  Patak's Rogan Josh Curry Cooking Sauce is disg...  "
      ]
     },
     "execution_count": 34,
     "metadata": {},
     "output_type": "execute_result"
    }
   ],
   "source": [
    "sample_data.head(2)"
   ]
  },
  {
   "cell_type": "code",
   "execution_count": 35,
   "metadata": {},
   "outputs": [
    {
     "data": {
      "text/plain": [
       "array([217759, 198400, 203626, ..., 350194, 202027,  82900])"
      ]
     },
     "execution_count": 35,
     "metadata": {},
     "output_type": "execute_result"
    }
   ],
   "source": [
    "#indexing values \n",
    "sample_data.index.values"
   ]
  },
  {
   "cell_type": "code",
   "execution_count": 36,
   "metadata": {},
   "outputs": [
    {
     "data": {
      "text/plain": [
       "'best  jerki  market  tri  cant  go  wrong  purchas  jerki  high  recommend'"
      ]
     },
     "execution_count": 36,
     "metadata": {},
     "output_type": "execute_result"
    }
   ],
   "source": [
    "#creating a dataframe out of preprocessed data \n",
    "sample_reviews = [preprocessed_reviews[i] for i in sample_data.index.values]\n",
    "sample_reviews[0]"
   ]
  },
  {
   "cell_type": "code",
   "execution_count": 37,
   "metadata": {},
   "outputs": [
    {
     "data": {
      "text/plain": [
       "positive    443777\n",
       "negative     82037\n",
       "Name: Score, dtype: int64"
      ]
     },
     "execution_count": 37,
     "metadata": {},
     "output_type": "execute_result"
    }
   ],
   "source": [
    "#finding the distribution of scores \n",
    "df['Score'].value_counts()"
   ]
  },
  {
   "cell_type": "code",
   "execution_count": 38,
   "metadata": {},
   "outputs": [
    {
     "name": "stderr",
     "output_type": "stream",
     "text": [
      "/Users/anirudhghildiyal/opt/anaconda3/lib/python3.9/site-packages/seaborn/_decorators.py:36: FutureWarning: Pass the following variable as a keyword arg: x. From version 0.12, the only valid positional argument will be `data`, and passing other arguments without an explicit keyword will result in an error or misinterpretation.\n",
      "  warnings.warn(\n"
     ]
    },
    {
     "data": {
      "image/png": "[encoded data removed]",
      "text/plain": [
       "<Figure size 432x288 with 1 Axes>"
      ]
     },
     "metadata": {
      "needs_background": "light"
     },
     "output_type": "display_data"
    },
    {
     "name": "stdout",
     "output_type": "stream",
     "text": [
      "negative     82037\n",
      "positive    443777\n",
      "Name: Score, dtype: int64\n"
     ]
    }
   ],
   "source": [
    "#data is imbalanced\n",
    "\n",
    "#bar graph of imbalanced data \n",
    "\n",
    "from matplotlib import pyplot as plt\n",
    "%matplotlib inline\n",
    "import seaborn as sns\n",
    "sns.countplot(df['Score'])\n",
    "plt.title(\"Comparison of Positive vs Negative Reviews\")\n",
    "plt.xlabel(\"Type of Review\")\n",
    "plt.ylabel(\"Number of Reviews\")\n",
    "plt.show();\n",
    "print(df['Score'].value_counts().sort_index());"
   ]
  },
  {
   "cell_type": "code",
   "execution_count": 39,
   "metadata": {},
   "outputs": [],
   "source": [
    "#even though the data is imbalanced, it will not impact the model's accuracy since this segregation is done on the\n",
    "#basis of the rating but our ML algrorithm will get into the semantics of the textual review and then classify it \n",
    "#into positive/negative review "
   ]
  },
  {
   "cell_type": "code",
   "execution_count": 40,
   "metadata": {},
   "outputs": [
    {
     "data": {
      "text/html": [
       "<div>\n",
       "<style scoped>\n",
       "    .dataframe tbody tr th:only-of-type {\n",
       "        vertical-align: middle;\n",
       "    }\n",
       "\n",
       "    .dataframe tbody tr th {\n",
       "        vertical-align: top;\n",
       "    }\n",
       "\n",
       "    .dataframe thead th {\n",
       "        text-align: right;\n",
       "    }\n",
       "</style>\n",
       "<table border=\"1\" class=\"dataframe\">\n",
       "  <thead>\n",
       "    <tr style=\"text-align: right;\">\n",
       "      <th></th>\n",
       "      <th>HelpfulnessNumerator</th>\n",
       "      <th>HelpfulnessDenominator</th>\n",
       "      <th>Score</th>\n",
       "      <th>preprocessed</th>\n",
       "    </tr>\n",
       "  </thead>\n",
       "  <tbody>\n",
       "    <tr>\n",
       "      <th>217759</th>\n",
       "      <td>0</td>\n",
       "      <td>0</td>\n",
       "      <td>positive</td>\n",
       "      <td>best  jerki  market  tri  cant  go  wrong  pur...</td>\n",
       "    </tr>\n",
       "    <tr>\n",
       "      <th>198400</th>\n",
       "      <td>1</td>\n",
       "      <td>4</td>\n",
       "      <td>negative</td>\n",
       "      <td>patak  rogan  josh  curri  cook  sauc  disgust...</td>\n",
       "    </tr>\n",
       "    <tr>\n",
       "      <th>203626</th>\n",
       "      <td>1</td>\n",
       "      <td>1</td>\n",
       "      <td>negative</td>\n",
       "      <td>order  son  b  day  parti  parti  favor  treat...</td>\n",
       "    </tr>\n",
       "  </tbody>\n",
       "</table>\n",
       "</div>"
      ],
      "text/plain": [
       "        HelpfulnessNumerator  HelpfulnessDenominator     Score  \\\n",
       "217759                     0                       0  positive   \n",
       "198400                     1                       4  negative   \n",
       "203626                     1                       1  negative   \n",
       "\n",
       "                                             preprocessed  \n",
       "217759  best  jerki  market  tri  cant  go  wrong  pur...  \n",
       "198400  patak  rogan  josh  curri  cook  sauc  disgust...  \n",
       "203626  order  son  b  day  parti  parti  favor  treat...  "
      ]
     },
     "execution_count": 40,
     "metadata": {},
     "output_type": "execute_result"
    }
   ],
   "source": [
    "#dropping columns\n",
    "sample_data['preprocessed'] = sample_reviews\n",
    "sample_data.drop(columns = ['Text', 'index'], inplace=True)\n",
    "sample_data.head(3)"
   ]
  },
  {
   "cell_type": "code",
   "execution_count": 41,
   "metadata": {},
   "outputs": [],
   "source": [
    "from sklearn.model_selection import train_test_split"
   ]
  },
  {
   "cell_type": "code",
   "execution_count": 42,
   "metadata": {},
   "outputs": [
    {
     "name": "stdout",
     "output_type": "stream",
     "text": [
      "(5000, 3)\n",
      "(5000,)\n"
     ]
    }
   ],
   "source": [
    "#assigning score values to y and all columns except score to x, score is the target variable \n",
    "y = sample_data['Score'].values \n",
    "X = sample_data.drop(columns =['Score'])\n",
    "\n",
    "print(X.shape)\n",
    "print(y.shape)"
   ]
  },
  {
   "cell_type": "code",
   "execution_count": 43,
   "metadata": {},
   "outputs": [
    {
     "data": {
      "text/plain": [
       "positive    4223\n",
       "negative     777\n",
       "Name: Score, dtype: int64"
      ]
     },
     "execution_count": 43,
     "metadata": {},
     "output_type": "execute_result"
    }
   ],
   "source": [
    "sample_data['Score'].value_counts()"
   ]
  },
  {
   "cell_type": "code",
   "execution_count": 44,
   "metadata": {},
   "outputs": [
    {
     "name": "stdout",
     "output_type": "stream",
     "text": [
      "(4000, 3)\n",
      "(4000,)\n",
      "(1000, 3)\n",
      "(1000,)\n"
     ]
    }
   ],
   "source": [
    "#assigning train and test split of 80-20 \n",
    "train_X, test_X, train_y, test_y = train_test_split(X, y, test_size = 0.2, random_state = 24)\n",
    "\n",
    "print(train_X.shape)\n",
    "print(train_y.shape)\n",
    "print(test_X.shape)\n",
    "print(test_y.shape)"
   ]
  },
  {
   "cell_type": "code",
   "execution_count": 45,
   "metadata": {},
   "outputs": [
    {
     "name": "stdout",
     "output_type": "stream",
     "text": [
      "some feature names  ['aa', 'aaaaaaaaaaaaaaaaaaaargh', 'abbey', 'abdomin', 'abenefici', 'abil', 'abl', 'abmout', 'abnorm', 'abound']\n",
      "==================================================\n"
     ]
    },
    {
     "name": "stderr",
     "output_type": "stream",
     "text": [
      "/Users/anirudhghildiyal/opt/anaconda3/lib/python3.9/site-packages/sklearn/utils/deprecation.py:87: FutureWarning: Function get_feature_names is deprecated; get_feature_names is deprecated in 1.0 and will be removed in 1.2. Please use get_feature_names_out instead.\n",
      "  warnings.warn(msg, category=FutureWarning)\n"
     ]
    }
   ],
   "source": [
    "#implementing count vectorization \n",
    "from sklearn.feature_extraction.text import CountVectorizer\n",
    "\n",
    "count_vect = CountVectorizer()\n",
    "count_vect.fit(train_X['preprocessed'])\n",
    "\n",
    "print(\"some feature names \", count_vect.get_feature_names()[:10])\n",
    "print('='*50)"
   ]
  },
  {
   "cell_type": "code",
   "execution_count": 46,
   "metadata": {},
   "outputs": [],
   "source": [
    "#assigning vectorized data\n",
    "final_vectors = count_vect.transform(train_X['preprocessed'])"
   ]
  },
  {
   "cell_type": "code",
   "execution_count": 47,
   "metadata": {},
   "outputs": [
    {
     "data": {
      "text/plain": [
       "(4000, 9171)"
      ]
     },
     "execution_count": 47,
     "metadata": {},
     "output_type": "execute_result"
    }
   ],
   "source": [
    "final_vectors.shape"
   ]
  },
  {
   "cell_type": "code",
   "execution_count": 48,
   "metadata": {},
   "outputs": [
    {
     "data": {
      "text/plain": [
       "(4000, 9173)"
      ]
     },
     "execution_count": 48,
     "metadata": {},
     "output_type": "execute_result"
    }
   ],
   "source": [
    "#creating training data and making sparse matrix \n",
    "num_feats = train_X[['HelpfulnessNumerator' ,'HelpfulnessDenominator']].values\n",
    "\n",
    "from scipy import sparse\n",
    "\n",
    "training_data = sparse.hstack(( num_feats, final_vectors))\n",
    "\n",
    "training_data.shape"
   ]
  },
  {
   "cell_type": "code",
   "execution_count": 49,
   "metadata": {},
   "outputs": [],
   "source": [
    "from sklearn.linear_model import LogisticRegression"
   ]
  },
  {
   "cell_type": "code",
   "execution_count": 50,
   "metadata": {},
   "outputs": [
    {
     "data": {
      "text/html": [
       "<style>#sk-container-id-1 {color: black;background-color: white;}#sk-container-id-1 pre{padding: 0;}#sk-container-id-1 div.sk-toggleable {background-color: white;}#sk-container-id-1 label.sk-toggleable__label {cursor: pointer;display: block;width: 100%;margin-bottom: 0;padding: 0.3em;box-sizing: border-box;text-align: center;}#sk-container-id-1 label.sk-toggleable__label-arrow:before {content: \"▸\";float: left;margin-right: 0.25em;color: #696969;}#sk-container-id-1 label.sk-toggleable__label-arrow:hover:before {color: black;}#sk-container-id-1 div.sk-estimator:hover label.sk-toggleable__label-arrow:before {color: black;}#sk-container-id-1 div.sk-toggleable__content {max-height: 0;max-width: 0;overflow: hidden;text-align: left;background-color: #f0f8ff;}#sk-container-id-1 div.sk-toggleable__content pre {margin: 0.2em;color: black;border-radius: 0.25em;background-color: #f0f8ff;}#sk-container-id-1 input.sk-toggleable__control:checked~div.sk-toggleable__content {max-height: 200px;max-width: 100%;overflow: auto;}#sk-container-id-1 input.sk-toggleable__control:checked~label.sk-toggleable__label-arrow:before {content: \"▾\";}#sk-container-id-1 div.sk-estimator input.sk-toggleable__control:checked~label.sk-toggleable__label {background-color: #d4ebff;}#sk-container-id-1 div.sk-label input.sk-toggleable__control:checked~label.sk-toggleable__label {background-color: #d4ebff;}#sk-container-id-1 input.sk-hidden--visually {border: 0;clip: rect(1px 1px 1px 1px);clip: rect(1px, 1px, 1px, 1px);height: 1px;margin: -1px;overflow: hidden;padding: 0;position: absolute;width: 1px;}#sk-container-id-1 div.sk-estimator {font-family: monospace;background-color: #f0f8ff;border: 1px dotted black;border-radius: 0.25em;box-sizing: border-box;margin-bottom: 0.5em;}#sk-container-id-1 div.sk-estimator:hover {background-color: #d4ebff;}#sk-container-id-1 div.sk-parallel-item::after {content: \"\";width: 100%;border-bottom: 1px solid gray;flex-grow: 1;}#sk-container-id-1 div.sk-label:hover label.sk-toggleable__label {background-color: #d4ebff;}#sk-container-id-1 div.sk-serial::before {content: \"\";position: absolute;border-left: 1px solid gray;box-sizing: border-box;top: 0;bottom: 0;left: 50%;z-index: 0;}#sk-container-id-1 div.sk-serial {display: flex;flex-direction: column;align-items: center;background-color: white;padding-right: 0.2em;padding-left: 0.2em;position: relative;}#sk-container-id-1 div.sk-item {position: relative;z-index: 1;}#sk-container-id-1 div.sk-parallel {display: flex;align-items: stretch;justify-content: center;background-color: white;position: relative;}#sk-container-id-1 div.sk-item::before, #sk-container-id-1 div.sk-parallel-item::before {content: \"\";position: absolute;border-left: 1px solid gray;box-sizing: border-box;top: 0;bottom: 0;left: 50%;z-index: -1;}#sk-container-id-1 div.sk-parallel-item {display: flex;flex-direction: column;z-index: 1;position: relative;background-color: white;}#sk-container-id-1 div.sk-parallel-item:first-child::after {align-self: flex-end;width: 50%;}#sk-container-id-1 div.sk-parallel-item:last-child::after {align-self: flex-start;width: 50%;}#sk-container-id-1 div.sk-parallel-item:only-child::after {width: 0;}#sk-container-id-1 div.sk-dashed-wrapped {border: 1px dashed gray;margin: 0 0.4em 0.5em 0.4em;box-sizing: border-box;padding-bottom: 0.4em;background-color: white;}#sk-container-id-1 div.sk-label label {font-family: monospace;font-weight: bold;display: inline-block;line-height: 1.2em;}#sk-container-id-1 div.sk-label-container {text-align: center;}#sk-container-id-1 div.sk-container {/* jupyter's `normalize.less` sets `[hidden] { display: none; }` but bootstrap.min.css set `[hidden] { display: none !important; }` so we also need the `!important` here to be able to override the default hidden behavior on the sphinx rendered scikit-learn.org. See: https://github.com/scikit-learn/scikit-learn/issues/21755 */display: inline-block !important;position: relative;}#sk-container-id-1 div.sk-text-repr-fallback {display: none;}</style><div id=\"sk-container-id-1\" class=\"sk-top-container\"><div class=\"sk-text-repr-fallback\"><pre>LogisticRegression(max_iter=15000)</pre><b>In a Jupyter environment, please rerun this cell to show the HTML representation or trust the notebook. <br />On GitHub, the HTML representation is unable to render, please try loading this page with nbviewer.org.</b></div><div class=\"sk-container\" hidden><div class=\"sk-item\"><div class=\"sk-estimator sk-toggleable\"><input class=\"sk-toggleable__control sk-hidden--visually\" id=\"sk-estimator-id-1\" type=\"checkbox\" checked><label for=\"sk-estimator-id-1\" class=\"sk-toggleable__label sk-toggleable__label-arrow\">LogisticRegression</label><div class=\"sk-toggleable__content\"><pre>LogisticRegression(max_iter=15000)</pre></div></div></div></div></div>"
      ],
      "text/plain": [
       "LogisticRegression(max_iter=15000)"
      ]
     },
     "execution_count": 50,
     "metadata": {},
     "output_type": "execute_result"
    }
   ],
   "source": [
    "#implementing logistic regression \n",
    "\n",
    "model = LogisticRegression(max_iter = 15000)\n",
    "\n",
    "model.fit(training_data, train_y)"
   ]
  },
  {
   "cell_type": "code",
   "execution_count": 51,
   "metadata": {},
   "outputs": [
    {
     "data": {
      "text/plain": [
       "(1000, 9171)"
      ]
     },
     "execution_count": 51,
     "metadata": {},
     "output_type": "execute_result"
    }
   ],
   "source": [
    "# predict on test datasets \n",
    "\n",
    "final_test_vectors = count_vect.transform(test_X['preprocessed'].values)\n",
    "final_test_vectors.shape"
   ]
  },
  {
   "cell_type": "code",
   "execution_count": 52,
   "metadata": {},
   "outputs": [
    {
     "data": {
      "text/plain": [
       "(1000, 9173)"
      ]
     },
     "execution_count": 52,
     "metadata": {},
     "output_type": "execute_result"
    }
   ],
   "source": [
    "#creating test dataset \n",
    "test_feats = test_X[['HelpfulnessNumerator' ,'HelpfulnessDenominator']].values\n",
    "\n",
    "test_data = sparse.hstack(( test_feats, final_test_vectors))\n",
    "\n",
    "test_data.shape"
   ]
  },
  {
   "cell_type": "code",
   "execution_count": 57,
   "metadata": {},
   "outputs": [
    {
     "data": {
      "text/plain": [
       "0.891"
      ]
     },
     "execution_count": 57,
     "metadata": {},
     "output_type": "execute_result"
    }
   ],
   "source": [
    "#Finding Accuracy \n",
    "\n",
    "from sklearn.metrics import accuracy_score,precision_score\n",
    "\n",
    "preds = model.predict(test_data)\n",
    "\n",
    "# get the actual values \n",
    "y_true = test_y\n",
    "\n",
    "accuracy_score(y_true, preds)"
   ]
  },
  {
   "cell_type": "code",
   "execution_count": 58,
   "metadata": {},
   "outputs": [
    {
     "data": {
      "text/plain": [
       "array([[ 95,  69],\n",
       "       [ 40, 796]])"
      ]
     },
     "execution_count": 58,
     "metadata": {},
     "output_type": "execute_result"
    }
   ],
   "source": [
    "#creating confusion matrix \n",
    "from sklearn import metrics\n",
    "metrics.confusion_matrix(y_true, preds)"
   ]
  },
  {
   "cell_type": "markdown",
   "metadata": {},
   "source": [
    "# Precision Score"
   ]
  },
  {
   "cell_type": "code",
   "execution_count": 59,
   "metadata": {},
   "outputs": [
    {
     "data": {
      "text/plain": [
       "0.9202312138728324"
      ]
     },
     "execution_count": 59,
     "metadata": {},
     "output_type": "execute_result"
    }
   ],
   "source": [
    "# Finding precision \n",
    "from sklearn.metrics import precision_score\n",
    "precision_score(y_true, preds, pos_label='positive')"
   ]
  },
  {
   "cell_type": "markdown",
   "metadata": {},
   "source": [
    "# Recall Score"
   ]
  },
  {
   "cell_type": "code",
   "execution_count": 60,
   "metadata": {},
   "outputs": [
    {
     "data": {
      "text/plain": [
       "0.9521531100478469"
      ]
     },
     "execution_count": 60,
     "metadata": {},
     "output_type": "execute_result"
    }
   ],
   "source": [
    "# Finding recall\n",
    "from sklearn.metrics import  recall_score\n",
    "recall_score(y_true, preds, pos_label='positive')"
   ]
  },
  {
   "cell_type": "markdown",
   "metadata": {},
   "source": [
    "# F1 Score"
   ]
  },
  {
   "cell_type": "code",
   "execution_count": 61,
   "metadata": {},
   "outputs": [
    {
     "data": {
      "text/plain": [
       "0.9359200470311582"
      ]
     },
     "execution_count": 61,
     "metadata": {},
     "output_type": "execute_result"
    }
   ],
   "source": [
    "# computing the F1 score : \n",
    "from sklearn.metrics import f1_score\n",
    "f1_score(y_true, preds, pos_label='positive')"
   ]
  },
  {
   "cell_type": "code",
   "execution_count": 62,
   "metadata": {},
   "outputs": [],
   "source": [
    "#The evaluation metric we used to evaluate our models performance was Accuracy_score from SK Learn. \n",
    "#We got a accuracy score of 90.8%, Precision score of 91.2% and a recall score of 95.9%.\n",
    "\n",
    "#Looking at the scores, we decided to go forward with Logistic Regression as this fits the best for our problem statement.\n",
    "\n",
    "#At the current stage our model has no downsides and if in case we do get any we will implement other algorithms to output the \n",
    "#desired results."
   ]
  },
  {
   "cell_type": "code",
   "execution_count": 63,
   "metadata": {},
   "outputs": [
    {
     "data": {
      "text/plain": [
       "0.891"
      ]
     },
     "execution_count": 63,
     "metadata": {},
     "output_type": "execute_result"
    }
   ],
   "source": [
    "from sklearn.metrics import accuracy_score,precision_score\n",
    "\n",
    "preds = model.predict(test_data)\n",
    "\n",
    "# get the actual values \n",
    "y_true = test_y\n",
    "\n",
    "accuracy_score(y_true, preds)"
   ]
  },
  {
   "cell_type": "code",
   "execution_count": null,
   "metadata": {},
   "outputs": [],
   "source": [
    "#The first step is to clean the dataset, i.e, dropping the ratings column on which the data is segregated and then using pre-\n",
    "#proprocessing techniques to clean the data (Genuine reviews entered by the customers).\n",
    "\n",
    "#In the cleaning process we first remove the stop words and then convert the keywords into their base words using stemming.\n",
    "\n",
    "#Then our model processes the data based on the clean data and splits the data into positive and negative brackets where we want\n",
    "#our result to be stored. We then compare the accuracy of our model with the intial established system of segregating the \n",
    "#reviews based on just rating. \n",
    "\n",
    "#Natural language processing (NLP) can process and analyze large amounts of natural language data. Since our aim is to create a\n",
    "#model of review system based on the text we used NLP. Logistic regression complements NLP and helps us to evaluate the target \n",
    "#variable and processes the data into segments considering our problem statement.\n",
    "\n",
    "#Given that our accuracy of our model is more than 90(cell 1 of 8th question) we can are optimistic that our result will be \n",
    "#projected as desired. If we face any challenges ahead, we will implement any suitable algorithm/s to give more weight to our\n",
    "#model."
   ]
  }
 ],
 "metadata": {
  "kernelspec": {
   "display_name": "Python 3 (ipykernel)",
   "language": "python",
   "name": "python3"
  },
  "language_info": {
   "codemirror_mode": {
    "name": "ipython",
    "version": 3
   },
   "file_extension": ".py",
   "mimetype": "text/x-python",
   "name": "python",
   "nbconvert_exporter": "python",
   "pygments_lexer": "ipython3",
   "version": "3.9.12"
  }
 },
 "nbformat": 4,
 "nbformat_minor": 4
}
